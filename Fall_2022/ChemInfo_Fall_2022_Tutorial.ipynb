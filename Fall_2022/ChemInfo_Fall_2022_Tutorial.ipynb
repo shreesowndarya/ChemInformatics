{
  "nbformat": 4,
  "nbformat_minor": 0,
  "metadata": {
    "colab": {
      "name": "HRC Tutorial.ipynb",
      "provenance": [],
      "collapsed_sections": []
    },
    "kernelspec": {
      "name": "python3",
      "display_name": "Python 3"
    },
    "language_info": {
      "name": "python"
    }
  },
  "cells": [
    {
      "cell_type": "markdown",
      "source": [
        "# Chem Infor Tutorial on nfp and GNNs\n",
        "\n",
        "02nd Nov 2022\n",
        "\n",
        "Shree Sowndarya S V\n",
        "\n",
        "This collab can be run remoting using google's computing resources as well as on local machines. Most of the comments would remain the same aside for enviroment setup i.e., the installation of software blocks."
      ],
      "metadata": {
        "id": "y-v6LZYq7Oed"
      }
    },
    {
      "cell_type": "markdown",
      "source": [
        "# Necessary packages to install for this code to run\n",
        "\n",
        "*   Step 1: PIP installation of necessary packages\n"
      ],
      "metadata": {
        "id": "rRfiYsry0GK6"
      }
    },
    {
      "cell_type": "code",
      "source": [
        "%%time\n",
        "#install nfp\n",
        "!pip install nfp rdkit-pypi > logpip.txt"
      ],
      "metadata": {
        "id": "bT7BNen82TVB",
        "colab": {
          "base_uri": "https://localhost:8080/"
        },
        "outputId": "ff0ee1d9-3524-4eb6-c6a3-11314aa1c4fb"
      },
      "execution_count": 1,
      "outputs": [
        {
          "output_type": "stream",
          "name": "stdout",
          "text": [
            "CPU times: user 50 ms, sys: 8.37 ms, total: 58.4 ms\n",
            "Wall time: 7.45 s\n"
          ]
        }
      ]
    },
    {
      "cell_type": "markdown",
      "source": [
        "# Necessary datasets we would be working with \n",
        "\n",
        "*   Step 1: Loading the dataset from github\n",
        "*   Step 2: Split the data for train and test\n"
      ],
      "metadata": {
        "id": "Gu6TpnqD_ve9"
      }
    },
    {
      "cell_type": "code",
      "source": [
        "# Step 1: Loading the dataset from github\n",
        "import pandas as pd\n",
        "url = 'https://raw.githubusercontent.com/shreesowndarya/HRC/main/reduced_radical_db_redox_potentials.csv'\n",
        "data = pd.read_csv(url)\n",
        "data.head()"
      ],
      "metadata": {
        "colab": {
          "base_uri": "https://localhost:8080/",
          "height": 204
        },
        "id": "90l83vTM_ufB",
        "outputId": "d42ffc40-4382-4dbc-fd1f-3516ec249d93"
      },
      "execution_count": 2,
      "outputs": [
        {
          "output_type": "execute_result",
          "data": {
            "text/plain": [
              "               smiles  oxidation  reduction\n",
              "0       C[C](CO)CCC#N   0.027999  -1.660134\n",
              "1     CC1=CC[C](O)CC1  -0.770340  -1.920379\n",
              "2       C=CCCC[CH]CCN   0.231808  -1.867590\n",
              "3        C[C](C)NCCCN  -1.777168  -2.273575\n",
              "4  [CH2]O/C=C/C(=O)OC   0.374692  -1.128816"
            ],
            "text/html": [
              "\n",
              "  <div id=\"df-5fe0e8d8-f083-4218-aa0f-4cedc3cfc9b2\">\n",
              "    <div class=\"colab-df-container\">\n",
              "      <div>\n",
              "<style scoped>\n",
              "    .dataframe tbody tr th:only-of-type {\n",
              "        vertical-align: middle;\n",
              "    }\n",
              "\n",
              "    .dataframe tbody tr th {\n",
              "        vertical-align: top;\n",
              "    }\n",
              "\n",
              "    .dataframe thead th {\n",
              "        text-align: right;\n",
              "    }\n",
              "</style>\n",
              "<table border=\"1\" class=\"dataframe\">\n",
              "  <thead>\n",
              "    <tr style=\"text-align: right;\">\n",
              "      <th></th>\n",
              "      <th>smiles</th>\n",
              "      <th>oxidation</th>\n",
              "      <th>reduction</th>\n",
              "    </tr>\n",
              "  </thead>\n",
              "  <tbody>\n",
              "    <tr>\n",
              "      <th>0</th>\n",
              "      <td>C[C](CO)CCC#N</td>\n",
              "      <td>0.027999</td>\n",
              "      <td>-1.660134</td>\n",
              "    </tr>\n",
              "    <tr>\n",
              "      <th>1</th>\n",
              "      <td>CC1=CC[C](O)CC1</td>\n",
              "      <td>-0.770340</td>\n",
              "      <td>-1.920379</td>\n",
              "    </tr>\n",
              "    <tr>\n",
              "      <th>2</th>\n",
              "      <td>C=CCCC[CH]CCN</td>\n",
              "      <td>0.231808</td>\n",
              "      <td>-1.867590</td>\n",
              "    </tr>\n",
              "    <tr>\n",
              "      <th>3</th>\n",
              "      <td>C[C](C)NCCCN</td>\n",
              "      <td>-1.777168</td>\n",
              "      <td>-2.273575</td>\n",
              "    </tr>\n",
              "    <tr>\n",
              "      <th>4</th>\n",
              "      <td>[CH2]O/C=C/C(=O)OC</td>\n",
              "      <td>0.374692</td>\n",
              "      <td>-1.128816</td>\n",
              "    </tr>\n",
              "  </tbody>\n",
              "</table>\n",
              "</div>\n",
              "      <button class=\"colab-df-convert\" onclick=\"convertToInteractive('df-5fe0e8d8-f083-4218-aa0f-4cedc3cfc9b2')\"\n",
              "              title=\"Convert this dataframe to an interactive table.\"\n",
              "              style=\"display:none;\">\n",
              "        \n",
              "  <svg xmlns=\"http://www.w3.org/2000/svg\" height=\"24px\"viewBox=\"0 0 24 24\"\n",
              "       width=\"24px\">\n",
              "    <path d=\"M0 0h24v24H0V0z\" fill=\"none\"/>\n",
              "    <path d=\"M18.56 5.44l.94 2.06.94-2.06 2.06-.94-2.06-.94-.94-2.06-.94 2.06-2.06.94zm-11 1L8.5 8.5l.94-2.06 2.06-.94-2.06-.94L8.5 2.5l-.94 2.06-2.06.94zm10 10l.94 2.06.94-2.06 2.06-.94-2.06-.94-.94-2.06-.94 2.06-2.06.94z\"/><path d=\"M17.41 7.96l-1.37-1.37c-.4-.4-.92-.59-1.43-.59-.52 0-1.04.2-1.43.59L10.3 9.45l-7.72 7.72c-.78.78-.78 2.05 0 2.83L4 21.41c.39.39.9.59 1.41.59.51 0 1.02-.2 1.41-.59l7.78-7.78 2.81-2.81c.8-.78.8-2.07 0-2.86zM5.41 20L4 18.59l7.72-7.72 1.47 1.35L5.41 20z\"/>\n",
              "  </svg>\n",
              "      </button>\n",
              "      \n",
              "  <style>\n",
              "    .colab-df-container {\n",
              "      display:flex;\n",
              "      flex-wrap:wrap;\n",
              "      gap: 12px;\n",
              "    }\n",
              "\n",
              "    .colab-df-convert {\n",
              "      background-color: #E8F0FE;\n",
              "      border: none;\n",
              "      border-radius: 50%;\n",
              "      cursor: pointer;\n",
              "      display: none;\n",
              "      fill: #1967D2;\n",
              "      height: 32px;\n",
              "      padding: 0 0 0 0;\n",
              "      width: 32px;\n",
              "    }\n",
              "\n",
              "    .colab-df-convert:hover {\n",
              "      background-color: #E2EBFA;\n",
              "      box-shadow: 0px 1px 2px rgba(60, 64, 67, 0.3), 0px 1px 3px 1px rgba(60, 64, 67, 0.15);\n",
              "      fill: #174EA6;\n",
              "    }\n",
              "\n",
              "    [theme=dark] .colab-df-convert {\n",
              "      background-color: #3B4455;\n",
              "      fill: #D2E3FC;\n",
              "    }\n",
              "\n",
              "    [theme=dark] .colab-df-convert:hover {\n",
              "      background-color: #434B5C;\n",
              "      box-shadow: 0px 1px 3px 1px rgba(0, 0, 0, 0.15);\n",
              "      filter: drop-shadow(0px 1px 2px rgba(0, 0, 0, 0.3));\n",
              "      fill: #FFFFFF;\n",
              "    }\n",
              "  </style>\n",
              "\n",
              "      <script>\n",
              "        const buttonEl =\n",
              "          document.querySelector('#df-5fe0e8d8-f083-4218-aa0f-4cedc3cfc9b2 button.colab-df-convert');\n",
              "        buttonEl.style.display =\n",
              "          google.colab.kernel.accessAllowed ? 'block' : 'none';\n",
              "\n",
              "        async function convertToInteractive(key) {\n",
              "          const element = document.querySelector('#df-5fe0e8d8-f083-4218-aa0f-4cedc3cfc9b2');\n",
              "          const dataTable =\n",
              "            await google.colab.kernel.invokeFunction('convertToInteractive',\n",
              "                                                     [key], {});\n",
              "          if (!dataTable) return;\n",
              "\n",
              "          const docLinkHtml = 'Like what you see? Visit the ' +\n",
              "            '<a target=\"_blank\" href=https://colab.research.google.com/notebooks/data_table.ipynb>data table notebook</a>'\n",
              "            + ' to learn more about interactive tables.';\n",
              "          element.innerHTML = '';\n",
              "          dataTable['output_type'] = 'display_data';\n",
              "          await google.colab.output.renderOutput(dataTable, element);\n",
              "          const docLink = document.createElement('div');\n",
              "          docLink.innerHTML = docLinkHtml;\n",
              "          element.appendChild(docLink);\n",
              "        }\n",
              "      </script>\n",
              "    </div>\n",
              "  </div>\n",
              "  "
            ]
          },
          "metadata": {},
          "execution_count": 2
        }
      ]
    },
    {
      "cell_type": "code",
      "source": [
        "# Step 2: Split the data for train and test\n",
        "import numpy as np\n",
        "valid, test, train = np.split(data.smiles.sample(frac=1., random_state=1), [100, 200])\n",
        "print('Training Set:', len(train))\n",
        "print('Validation Set:' , len(valid))\n",
        "print('Testing Set:' , len(test))"
      ],
      "metadata": {
        "colab": {
          "base_uri": "https://localhost:8080/"
        },
        "id": "wlejxYTfApk-",
        "outputId": "ca423f65-078e-4d17-d6ed-8e5d37556033"
      },
      "execution_count": 3,
      "outputs": [
        {
          "output_type": "stream",
          "name": "stdout",
          "text": [
            "Training Set: 2097\n",
            "Validation Set: 100\n",
            "Testing Set: 100\n"
          ]
        }
      ]
    },
    {
      "cell_type": "markdown",
      "source": [
        "# nfp example\n",
        "\n",
        "*   Step 1: Import nfp for processing smiles to graphs\n",
        "*   Step 2: Define the kind of features we are using for atoms and bonds in the molecule\n",
        "*   Step 3: Example showing the features utilized for atoms and bonds\n",
        "*   Step 4: create a nfp graph processor using the feature we need\n",
        "*   Step 5: Example of graphical inputs for SMILES - 'CCO'\n",
        "*   Step 6: Graphical inputs for a dataset of SMILES- What do the numbers mean?"
      ],
      "metadata": {
        "id": "B0p1aybt5FEb"
      }
    },
    {
      "cell_type": "code",
      "source": [
        "# Step 1:\n",
        "from nfp.preprocessing.features import get_ring_size"
      ],
      "metadata": {
        "id": "1XRIoSG05WvV"
      },
      "execution_count": 4,
      "outputs": []
    },
    {
      "cell_type": "code",
      "source": [
        "# Step 2: Definition the kind of features we are using for atoms and bonds in the molecule\n",
        "def atom_featurizer(atom):\n",
        "    \"\"\" Return a string representing the atom type \n",
        "    \n",
        "    returns [symbol, is_aromatic, ring_size, degree, total_num_Hs]\n",
        "    \"\"\"\n",
        "\n",
        "    return str((\n",
        "        atom.GetSymbol(),\n",
        "        atom.GetIsAromatic(),\n",
        "        get_ring_size(atom, max_size=6),\n",
        "        atom.GetDegree(),\n",
        "        atom.GetTotalNumHs(includeNeighbors=True)\n",
        "    ))\n",
        "\n",
        "def bond_featurizer(bond, flipped=False):\n",
        "    \"\"\" Get a similar classification of the bond type.\n",
        "    Flipped indicates which 'direction' the bond edge is pointing.\n",
        "\n",
        "    returns [atoms_in_bond, bond_type, ring_size]\n",
        "    \"\"\"\n",
        "    \n",
        "    if not flipped:\n",
        "        atoms = \"{}-{}\".format(\n",
        "            *tuple((bond.GetBeginAtom().GetSymbol(),\n",
        "                    bond.GetEndAtom().GetSymbol())))\n",
        "    else:\n",
        "        atoms = \"{}-{}\".format(\n",
        "            *tuple((bond.GetEndAtom().GetSymbol(),\n",
        "                    bond.GetBeginAtom().GetSymbol())))\n",
        "    \n",
        "    btype = str(bond.GetBondType())\n",
        "    ring = 'R{}'.format(get_ring_size(bond, max_size=6)) if bond.IsInRing() else ''\n",
        "    \n",
        "    return \" \".join([atoms, btype, ring]).strip()"
      ],
      "metadata": {
        "id": "AIyMz96M6QjF"
      },
      "execution_count": 5,
      "outputs": []
    },
    {
      "cell_type": "code",
      "source": [
        "# Step 3: Example showing the features utilized for atoms and bonds\n",
        "from rdkit import Chem\n",
        "\n",
        "smiles = 'CCO'\n",
        "mol = Chem.MolFromSmiles(smiles)\n",
        "print('Atom features:', atom_featurizer(mol.GetAtoms()[0]))\n",
        "print('Bond features:', bond_featurizer(mol.GetBonds()[1]))"
      ],
      "metadata": {
        "colab": {
          "base_uri": "https://localhost:8080/"
        },
        "id": "F7Izfnsg-jdM",
        "outputId": "2b17bd22-c547-4e1b-be45-f6ec837b99c6"
      },
      "execution_count": 6,
      "outputs": [
        {
          "output_type": "stream",
          "name": "stdout",
          "text": [
            "Atom features: ('C', False, 0, 1, 3)\n",
            "Bond features: C-O SINGLE\n"
          ]
        }
      ]
    },
    {
      "cell_type": "code",
      "source": [
        "# Step 4: create a nfp graph processor using the feature we need\n",
        "from nfp.preprocessing.mol_preprocessor import SmilesPreprocessor\n",
        "preprocessor = SmilesPreprocessor(atom_features=atom_featurizer, bond_features=bond_featurizer, explicit_hs=False)"
      ],
      "metadata": {
        "id": "q_jIUDfx9yiD"
      },
      "execution_count": 8,
      "outputs": []
    },
    {
      "cell_type": "code",
      "source": [
        "# Step 5: Example of graphical inputs for SMILES - 'CCO'\n",
        "print('Atoms Classes:', preprocessor(smiles, train=True)['atom']) # Atom types, as integer classes\n",
        "print('Bond Classes:', preprocessor(smiles, train=True)['bond']) # Bond types, as integer classes\n",
        "print('Connectivity:', preprocessor(smiles, train=True)['connectivity']) # A connectivity array, where row i \n",
        "                                                                  #indicates bond i connects atom j to atom k"
      ],
      "metadata": {
        "colab": {
          "base_uri": "https://localhost:8080/"
        },
        "id": "Oj6Y8IMQ94iL",
        "outputId": "1ebe2012-2b07-4340-83a7-ede867e4f290"
      },
      "execution_count": 9,
      "outputs": [
        {
          "output_type": "stream",
          "name": "stdout",
          "text": [
            "Atoms Classes: [2 3 4]\n",
            "Bond Classes: [2 2 3 4]\n",
            "Connectivity: [[0 1]\n",
            " [1 0]\n",
            " [1 2]\n",
            " [2 1]]\n"
          ]
        }
      ]
    },
    {
      "cell_type": "code",
      "source": [
        "# Step 6: Graphical inputs for a dataset of SMILES - What do the numbers mean?\n",
        "for smiles in data.smiles: \n",
        "  preprocessor(smiles, train=True)\n",
        "\n",
        "print('Atom data types: \\n', pd.Series(preprocessor.atom_tokenizer._data))\n",
        "print('\\nBond data types: \\n', pd.Series(preprocessor.bond_tokenizer._data))"
      ],
      "metadata": {
        "colab": {
          "base_uri": "https://localhost:8080/"
        },
        "id": "tqXVyWonDpqV",
        "outputId": "cf4796f0-ae64-4d10-d0d8-3c950d6102ad"
      },
      "execution_count": 10,
      "outputs": [
        {
          "output_type": "stream",
          "name": "stdout",
          "text": [
            "Atom data types: \n",
            " unk                           1\n",
            "('C', False, 0, 1, 3)         2\n",
            "('C', False, 0, 2, 2)         3\n",
            "('O', False, 0, 1, 1)         4\n",
            "('C', False, 0, 3, 0)         5\n",
            "                             ..\n",
            "('S', False, 'max', 3, 0)    88\n",
            "('S', False, 3, 2, 0)        89\n",
            "('S', False, 4, 2, 0)        90\n",
            "('C', True, 3, 3, 0)         91\n",
            "('N', False, 3, 4, 0)        92\n",
            "Length: 92, dtype: int64\n",
            "\n",
            "Bond data types: \n",
            " unk                  1\n",
            "C-C SINGLE           2\n",
            "C-O SINGLE           3\n",
            "O-C SINGLE           4\n",
            "C-N TRIPLE           5\n",
            "                  ... \n",
            "O-S SINGLE R5      116\n",
            "S-O SINGLE R5      117\n",
            "N-N DOUBLE R3      118\n",
            "C-C TRIPLE Rmax    119\n",
            "C-C AROMATIC R3    120\n",
            "Length: 120, dtype: int64\n"
          ]
        }
      ]
    },
    {
      "cell_type": "markdown",
      "source": [
        "# Building Graphs with xTB features\n",
        "\n",
        "*   Step 1: Run xtb calculation to obtain properties as a json file (example shown)\n",
        "*   Step 2: Use xTB preprocessor to build graphs with xtb features added to atoms and nodes\n",
        "*   Step 3: Compile and construct the GNNs"
      ],
      "metadata": {
        "id": "efSVU0vgLeEC"
      }
    },
    {
      "cell_type": "code",
      "source": [],
      "metadata": {
        "id": "D6ejSppnL8Oe"
      },
      "execution_count": null,
      "outputs": []
    },
    {
      "cell_type": "markdown",
      "source": [
        "# Building Graph Neural Networks (GNNs)\n",
        "\n",
        "*   Step 1: Convert the graphs into tensorflow syntax for builing GNN - Here we are considering only Oxidation to keep things simple\n",
        "*   Step 2: Define the neural network model \n",
        "*   Step 3: Compile and construct the GNNs"
      ],
      "metadata": {
        "id": "4WuI7hlg4Ebb"
      }
    },
    {
      "cell_type": "code",
      "source": [
        "# Step 1: Convert the graphs into tensorflow syntax for builing GNN\n",
        "import tensorflow as tf\n",
        "\n",
        "train_dataset = tf.data.Dataset.from_generator(\n",
        "    lambda: ((preprocessor(row.smiles, train=True), row['oxidation'])\n",
        "            for i, row in data[data.smiles.isin(train)].iterrows()),\n",
        "    output_signature=(preprocessor.output_signature, tf.TensorSpec((), dtype=tf.float32)))\\\n",
        "    .cache().shuffle(buffer_size=200)\\\n",
        "    .padded_batch(batch_size=(128))\\\n",
        "    .prefetch(tf.data.experimental.AUTOTUNE)\n",
        "\n",
        "valid_dataset = tf.data.Dataset.from_generator(\n",
        "    lambda: ((preprocessor(row.smiles, train=False), row['oxidation'])\n",
        "            for i, row in data[data.smiles.isin(valid)].iterrows()),\n",
        "    output_signature=(preprocessor.output_signature, tf.TensorSpec((), dtype=tf.float32)))\\\n",
        "    .cache()\\\n",
        "    .padded_batch(batch_size=(64))\\\n",
        "    .prefetch(tf.data.experimental.AUTOTUNE)\n",
        "\n",
        "test_dataset = tf.data.Dataset.from_generator(\n",
        "  lambda: (preprocessor(smiles, train=False)\n",
        "          for smiles in test),\n",
        "  output_signature=preprocessor.output_signature)\\\n",
        "  .padded_batch(batch_size=len(test))\\\n",
        "  .prefetch(tf.data.experimental.AUTOTUNE)"
      ],
      "metadata": {
        "id": "H4s8CATE3j5X"
      },
      "execution_count": 11,
      "outputs": []
    },
    {
      "cell_type": "code",
      "source": [
        "# Step 2: Define the neural network model\n",
        "from tensorflow.keras import layers\n",
        "import nfp\n",
        "\n",
        "# Input layers\n",
        "atom = layers.Input(shape=[None], dtype=tf.int64, name='atom')\n",
        "bond = layers.Input(shape=[None], dtype=tf.int64, name='bond')\n",
        "connectivity = layers.Input(shape=[None, 2], dtype=tf.int64, name='connectivity')\n",
        "\n",
        "num_features = 8  # Controls the size of the model\n",
        "\n",
        "# Convert from a single integer defining the atom state to a vector\n",
        "# of weights associated with that class\n",
        "atom_state = layers.Embedding(preprocessor.atom_classes, num_features,\n",
        "                              name='atom_embedding', mask_zero=True)(atom)\n",
        "\n",
        "# Ditto with the bond state\n",
        "bond_state = layers.Embedding(preprocessor.bond_classes, num_features,\n",
        "                              name='bond_embedding', mask_zero=True)(bond)\n",
        "\n",
        "# Here we use our first nfp layer. This is an attention layer that looks at\n",
        "# the atom and bond states and reduces them to a single, graph-level vector. \n",
        "# mum_heads * units has to be the same dimension as the atom / bond dimension\n",
        "global_state = nfp.GlobalUpdate(units=8, num_heads=1)([atom_state, bond_state, connectivity])\n",
        "\n",
        "for _ in range(3):  # Do the message passing\n",
        "    new_bond_state = nfp.EdgeUpdate()([atom_state, bond_state, connectivity, global_state])\n",
        "    bond_state = layers.Add()([bond_state, new_bond_state])\n",
        "    \n",
        "    new_atom_state = nfp.NodeUpdate()([atom_state, bond_state, connectivity, global_state])\n",
        "    atom_state = layers.Add()([atom_state, new_atom_state])\n",
        "    \n",
        "    new_global_state = nfp.GlobalUpdate(units=8, num_heads=1)(\n",
        "        [atom_state, bond_state, connectivity, global_state]) \n",
        "    global_state = layers.Add()([global_state, new_global_state])\n",
        "\n",
        "# Since the final prediction is a single, molecule-level property (oxidation, reduction), we \n",
        "# reduce the last global state to a single prediction\n",
        "ox_prediction = layers.Dense(1)(global_state)\n",
        "\n",
        "# Construct the tf.keras model\n",
        "model = tf.keras.Model([atom, bond, connectivity], [ox_prediction])"
      ],
      "metadata": {
        "id": "6q6-jiDiFw1t"
      },
      "execution_count": 12,
      "outputs": []
    },
    {
      "cell_type": "code",
      "source": [
        "# Step 3: Compile and construct the GNNs\n",
        "model.compile(loss='mae', optimizer=tf.keras.optimizers.Adam(1E-3))\n",
        "model.fit(train_dataset, validation_data=valid_dataset, epochs=100)"
      ],
      "metadata": {
        "colab": {
          "base_uri": "https://localhost:8080/"
        },
        "id": "U1wf4ZVeIRlX",
        "outputId": "347336aa-3b00-4eed-a37d-84da5dcfed59"
      },
      "execution_count": 13,
      "outputs": [
        {
          "output_type": "stream",
          "name": "stdout",
          "text": [
            "Epoch 1/100\n",
            "17/17 [==============================] - 12s 279ms/step - loss: 0.7281 - val_loss: 0.7516\n",
            "Epoch 2/100\n",
            "17/17 [==============================] - 0s 14ms/step - loss: 0.6645 - val_loss: 0.6359\n",
            "Epoch 3/100\n",
            "17/17 [==============================] - 0s 13ms/step - loss: 0.5761 - val_loss: 0.5850\n",
            "Epoch 4/100\n",
            "17/17 [==============================] - 0s 13ms/step - loss: 0.5315 - val_loss: 0.5548\n",
            "Epoch 5/100\n",
            "17/17 [==============================] - 0s 14ms/step - loss: 0.4925 - val_loss: 0.5141\n",
            "Epoch 6/100\n",
            "17/17 [==============================] - 0s 13ms/step - loss: 0.4676 - val_loss: 0.4840\n",
            "Epoch 7/100\n",
            "17/17 [==============================] - 0s 14ms/step - loss: 0.4574 - val_loss: 0.4862\n",
            "Epoch 8/100\n",
            "17/17 [==============================] - 0s 13ms/step - loss: 0.4428 - val_loss: 0.4703\n",
            "Epoch 9/100\n",
            "17/17 [==============================] - 0s 13ms/step - loss: 0.4270 - val_loss: 0.4615\n",
            "Epoch 10/100\n",
            "17/17 [==============================] - 0s 14ms/step - loss: 0.4135 - val_loss: 0.4702\n",
            "Epoch 11/100\n",
            "17/17 [==============================] - 0s 13ms/step - loss: 0.3972 - val_loss: 0.4623\n",
            "Epoch 12/100\n",
            "17/17 [==============================] - 0s 12ms/step - loss: 0.3975 - val_loss: 0.4161\n",
            "Epoch 13/100\n",
            "17/17 [==============================] - 0s 13ms/step - loss: 0.3683 - val_loss: 0.4217\n",
            "Epoch 14/100\n",
            "17/17 [==============================] - 0s 15ms/step - loss: 0.3530 - val_loss: 0.4066\n",
            "Epoch 15/100\n",
            "17/17 [==============================] - 0s 14ms/step - loss: 0.3395 - val_loss: 0.3734\n",
            "Epoch 16/100\n",
            "17/17 [==============================] - 0s 14ms/step - loss: 0.3356 - val_loss: 0.3748\n",
            "Epoch 17/100\n",
            "17/17 [==============================] - 0s 14ms/step - loss: 0.3193 - val_loss: 0.3770\n",
            "Epoch 18/100\n",
            "17/17 [==============================] - 0s 13ms/step - loss: 0.3097 - val_loss: 0.4154\n",
            "Epoch 19/100\n",
            "17/17 [==============================] - 0s 13ms/step - loss: 0.3029 - val_loss: 0.3323\n",
            "Epoch 20/100\n",
            "17/17 [==============================] - 0s 11ms/step - loss: 0.2800 - val_loss: 0.3216\n",
            "Epoch 21/100\n",
            "17/17 [==============================] - 0s 12ms/step - loss: 0.2854 - val_loss: 0.3425\n",
            "Epoch 22/100\n",
            "17/17 [==============================] - 0s 13ms/step - loss: 0.2782 - val_loss: 0.3017\n",
            "Epoch 23/100\n",
            "17/17 [==============================] - 0s 14ms/step - loss: 0.2587 - val_loss: 0.3171\n",
            "Epoch 24/100\n",
            "17/17 [==============================] - 0s 13ms/step - loss: 0.2671 - val_loss: 0.3174\n",
            "Epoch 25/100\n",
            "17/17 [==============================] - 0s 14ms/step - loss: 0.2468 - val_loss: 0.2854\n",
            "Epoch 26/100\n",
            "17/17 [==============================] - 0s 14ms/step - loss: 0.2396 - val_loss: 0.3303\n",
            "Epoch 27/100\n",
            "17/17 [==============================] - 0s 14ms/step - loss: 0.2407 - val_loss: 0.2792\n",
            "Epoch 28/100\n",
            "17/17 [==============================] - 0s 13ms/step - loss: 0.2235 - val_loss: 0.2761\n",
            "Epoch 29/100\n",
            "17/17 [==============================] - 0s 13ms/step - loss: 0.2123 - val_loss: 0.2792\n",
            "Epoch 30/100\n",
            "17/17 [==============================] - 0s 12ms/step - loss: 0.2036 - val_loss: 0.2817\n",
            "Epoch 31/100\n",
            "17/17 [==============================] - 0s 13ms/step - loss: 0.2035 - val_loss: 0.2736\n",
            "Epoch 32/100\n",
            "17/17 [==============================] - 0s 12ms/step - loss: 0.2060 - val_loss: 0.2472\n",
            "Epoch 33/100\n",
            "17/17 [==============================] - 0s 12ms/step - loss: 0.1902 - val_loss: 0.2590\n",
            "Epoch 34/100\n",
            "17/17 [==============================] - 0s 13ms/step - loss: 0.1995 - val_loss: 0.2609\n",
            "Epoch 35/100\n",
            "17/17 [==============================] - 0s 15ms/step - loss: 0.1928 - val_loss: 0.2645\n",
            "Epoch 36/100\n",
            "17/17 [==============================] - 0s 13ms/step - loss: 0.1928 - val_loss: 0.2528\n",
            "Epoch 37/100\n",
            "17/17 [==============================] - 0s 14ms/step - loss: 0.1811 - val_loss: 0.2414\n",
            "Epoch 38/100\n",
            "17/17 [==============================] - 0s 14ms/step - loss: 0.1740 - val_loss: 0.2407\n",
            "Epoch 39/100\n",
            "17/17 [==============================] - 0s 14ms/step - loss: 0.1713 - val_loss: 0.2443\n",
            "Epoch 40/100\n",
            "17/17 [==============================] - 0s 12ms/step - loss: 0.1691 - val_loss: 0.2383\n",
            "Epoch 41/100\n",
            "17/17 [==============================] - 0s 14ms/step - loss: 0.1673 - val_loss: 0.2570\n",
            "Epoch 42/100\n",
            "17/17 [==============================] - 0s 13ms/step - loss: 0.1707 - val_loss: 0.2385\n",
            "Epoch 43/100\n",
            "17/17 [==============================] - 0s 13ms/step - loss: 0.1668 - val_loss: 0.2443\n",
            "Epoch 44/100\n",
            "17/17 [==============================] - 0s 13ms/step - loss: 0.1643 - val_loss: 0.2378\n",
            "Epoch 45/100\n",
            "17/17 [==============================] - 0s 15ms/step - loss: 0.1549 - val_loss: 0.2478\n",
            "Epoch 46/100\n",
            "17/17 [==============================] - 0s 14ms/step - loss: 0.1535 - val_loss: 0.2286\n",
            "Epoch 47/100\n",
            "17/17 [==============================] - 0s 13ms/step - loss: 0.1508 - val_loss: 0.2427\n",
            "Epoch 48/100\n",
            "17/17 [==============================] - 0s 14ms/step - loss: 0.1675 - val_loss: 0.2335\n",
            "Epoch 49/100\n",
            "17/17 [==============================] - 0s 13ms/step - loss: 0.1525 - val_loss: 0.2233\n",
            "Epoch 50/100\n",
            "17/17 [==============================] - 0s 14ms/step - loss: 0.1514 - val_loss: 0.2221\n",
            "Epoch 51/100\n",
            "17/17 [==============================] - 0s 14ms/step - loss: 0.1516 - val_loss: 0.2167\n",
            "Epoch 52/100\n",
            "17/17 [==============================] - 0s 13ms/step - loss: 0.1717 - val_loss: 0.2492\n",
            "Epoch 53/100\n",
            "17/17 [==============================] - 0s 14ms/step - loss: 0.1587 - val_loss: 0.2329\n",
            "Epoch 54/100\n",
            "17/17 [==============================] - 0s 14ms/step - loss: 0.1620 - val_loss: 0.2534\n",
            "Epoch 55/100\n",
            "17/17 [==============================] - 0s 13ms/step - loss: 0.1506 - val_loss: 0.2282\n",
            "Epoch 56/100\n",
            "17/17 [==============================] - 0s 14ms/step - loss: 0.1373 - val_loss: 0.2233\n",
            "Epoch 57/100\n",
            "17/17 [==============================] - 0s 13ms/step - loss: 0.1372 - val_loss: 0.2262\n",
            "Epoch 58/100\n",
            "17/17 [==============================] - 0s 14ms/step - loss: 0.1380 - val_loss: 0.2200\n",
            "Epoch 59/100\n",
            "17/17 [==============================] - 0s 14ms/step - loss: 0.1375 - val_loss: 0.2315\n",
            "Epoch 60/100\n",
            "17/17 [==============================] - 0s 14ms/step - loss: 0.1417 - val_loss: 0.2278\n",
            "Epoch 61/100\n",
            "17/17 [==============================] - 0s 14ms/step - loss: 0.1352 - val_loss: 0.2347\n",
            "Epoch 62/100\n",
            "17/17 [==============================] - 0s 13ms/step - loss: 0.1384 - val_loss: 0.2153\n",
            "Epoch 63/100\n",
            "17/17 [==============================] - 0s 14ms/step - loss: 0.1309 - val_loss: 0.2256\n",
            "Epoch 64/100\n",
            "17/17 [==============================] - 0s 13ms/step - loss: 0.1327 - val_loss: 0.2239\n",
            "Epoch 65/100\n",
            "17/17 [==============================] - 0s 14ms/step - loss: 0.1317 - val_loss: 0.2260\n",
            "Epoch 66/100\n",
            "17/17 [==============================] - 0s 13ms/step - loss: 0.1282 - val_loss: 0.2313\n",
            "Epoch 67/100\n",
            "17/17 [==============================] - 0s 14ms/step - loss: 0.1276 - val_loss: 0.2187\n",
            "Epoch 68/100\n",
            "17/17 [==============================] - 0s 12ms/step - loss: 0.1255 - val_loss: 0.2231\n",
            "Epoch 69/100\n",
            "17/17 [==============================] - 0s 14ms/step - loss: 0.1301 - val_loss: 0.2309\n",
            "Epoch 70/100\n",
            "17/17 [==============================] - 0s 13ms/step - loss: 0.1270 - val_loss: 0.2204\n",
            "Epoch 71/100\n",
            "17/17 [==============================] - 0s 14ms/step - loss: 0.1215 - val_loss: 0.2333\n",
            "Epoch 72/100\n",
            "17/17 [==============================] - 0s 13ms/step - loss: 0.1261 - val_loss: 0.2225\n",
            "Epoch 73/100\n",
            "17/17 [==============================] - 0s 14ms/step - loss: 0.1201 - val_loss: 0.2137\n",
            "Epoch 74/100\n",
            "17/17 [==============================] - 0s 14ms/step - loss: 0.1185 - val_loss: 0.2211\n",
            "Epoch 75/100\n",
            "17/17 [==============================] - 0s 23ms/step - loss: 0.1175 - val_loss: 0.2188\n",
            "Epoch 76/100\n",
            "17/17 [==============================] - 0s 27ms/step - loss: 0.1212 - val_loss: 0.2296\n",
            "Epoch 77/100\n",
            "17/17 [==============================] - 0s 23ms/step - loss: 0.1295 - val_loss: 0.2223\n",
            "Epoch 78/100\n",
            "17/17 [==============================] - 0s 19ms/step - loss: 0.1213 - val_loss: 0.2099\n",
            "Epoch 79/100\n",
            "17/17 [==============================] - 0s 14ms/step - loss: 0.1149 - val_loss: 0.2153\n",
            "Epoch 80/100\n",
            "17/17 [==============================] - 0s 12ms/step - loss: 0.1206 - val_loss: 0.2099\n",
            "Epoch 81/100\n",
            "17/17 [==============================] - 0s 13ms/step - loss: 0.1249 - val_loss: 0.2071\n",
            "Epoch 82/100\n",
            "17/17 [==============================] - 0s 14ms/step - loss: 0.1206 - val_loss: 0.2128\n",
            "Epoch 83/100\n",
            "17/17 [==============================] - 0s 13ms/step - loss: 0.1162 - val_loss: 0.2060\n",
            "Epoch 84/100\n",
            "17/17 [==============================] - 0s 13ms/step - loss: 0.1114 - val_loss: 0.2298\n",
            "Epoch 85/100\n",
            "17/17 [==============================] - 0s 13ms/step - loss: 0.1158 - val_loss: 0.2338\n",
            "Epoch 86/100\n",
            "17/17 [==============================] - 0s 13ms/step - loss: 0.1147 - val_loss: 0.2103\n",
            "Epoch 87/100\n",
            "17/17 [==============================] - 0s 14ms/step - loss: 0.1130 - val_loss: 0.2336\n",
            "Epoch 88/100\n",
            "17/17 [==============================] - 0s 14ms/step - loss: 0.1212 - val_loss: 0.2195\n",
            "Epoch 89/100\n",
            "17/17 [==============================] - 0s 14ms/step - loss: 0.1264 - val_loss: 0.2322\n",
            "Epoch 90/100\n",
            "17/17 [==============================] - 0s 14ms/step - loss: 0.1205 - val_loss: 0.2166\n",
            "Epoch 91/100\n",
            "17/17 [==============================] - 0s 13ms/step - loss: 0.1178 - val_loss: 0.2273\n",
            "Epoch 92/100\n",
            "17/17 [==============================] - 0s 12ms/step - loss: 0.1189 - val_loss: 0.2016\n",
            "Epoch 93/100\n",
            "17/17 [==============================] - 0s 12ms/step - loss: 0.1109 - val_loss: 0.2070\n",
            "Epoch 94/100\n",
            "17/17 [==============================] - 0s 14ms/step - loss: 0.1079 - val_loss: 0.2070\n",
            "Epoch 95/100\n",
            "17/17 [==============================] - 0s 14ms/step - loss: 0.1027 - val_loss: 0.2154\n",
            "Epoch 96/100\n",
            "17/17 [==============================] - 0s 13ms/step - loss: 0.1025 - val_loss: 0.2240\n",
            "Epoch 97/100\n",
            "17/17 [==============================] - 0s 13ms/step - loss: 0.1082 - val_loss: 0.2100\n",
            "Epoch 98/100\n",
            "17/17 [==============================] - 0s 14ms/step - loss: 0.1081 - val_loss: 0.2183\n",
            "Epoch 99/100\n",
            "17/17 [==============================] - 0s 13ms/step - loss: 0.1078 - val_loss: 0.2202\n",
            "Epoch 100/100\n",
            "17/17 [==============================] - 0s 22ms/step - loss: 0.1061 - val_loss: 0.2126\n"
          ]
        },
        {
          "output_type": "execute_result",
          "data": {
            "text/plain": [
              "<keras.callbacks.History at 0x7faa41438dd0>"
            ]
          },
          "metadata": {},
          "execution_count": 13
        }
      ]
    },
    {
      "cell_type": "markdown",
      "source": [
        "# Testing Graph Neural Networks (GNNs)\n",
        "\n",
        "*   Step 1: Predict using the built model\n",
        "*   Step 2: Plot to see test set\n",
        "\n",
        "\n",
        "\n"
      ],
      "metadata": {
        "id": "q0nvROBtXjhF"
      }
    },
    {
      "cell_type": "code",
      "source": [
        "# Step 1: Predict using the built model\n",
        "test_predictions = model.predict(test_dataset)\n",
        "test_db_values = data.set_index('smiles').reindex(test)['oxidation'].values"
      ],
      "metadata": {
        "id": "pFWKuKd9IbvW",
        "outputId": "42058104-6d4c-4145-d8f5-d22ed6fe3f14",
        "colab": {
          "base_uri": "https://localhost:8080/"
        }
      },
      "execution_count": 14,
      "outputs": [
        {
          "output_type": "stream",
          "name": "stdout",
          "text": [
            "1/1 [==============================] - 2s 2s/step\n"
          ]
        }
      ]
    },
    {
      "cell_type": "code",
      "source": [
        "# Step 2: Plot to see test set\n",
        "import matplotlib.pyplot as plt\n",
        "import seaborn as sns\n",
        "from sklearn.metrics import r2_score\n",
        "import sklearn.metrics as metrics\n",
        "\n",
        "fig = plt.subplots()\n",
        "\n",
        "ax1 = sns.scatterplot(test_db_values,test_predictions.flatten(),s=30,marker='o',color='b',alpha=0.5)\n",
        "ax1.set_xlabel(r'Calculated Oxidation in eV',fontsize=10)\n",
        "ax1.set_ylabel(r'Predicted Oxidation in eV',fontsize=10)\n",
        "\n",
        "mae = metrics.mean_absolute_error(test_db_values,test_predictions.flatten())\n",
        "r2 = metrics.r2_score(test_db_values,test_predictions.flatten())\n",
        "\n",
        "plt.annotate(f\"$R^2$ = {round(r2,1)} \\nMAE = {round(mae,1)} \", xy=(1.0, -1.5), fontsize=14)"
      ],
      "metadata": {
        "colab": {
          "base_uri": "https://localhost:8080/",
          "height": 350
        },
        "id": "J4hXJ09zX2KT",
        "outputId": "9f1c1890-e260-4430-9c57-5eba0fd2d6b8"
      },
      "execution_count": 15,
      "outputs": [
        {
          "output_type": "stream",
          "name": "stderr",
          "text": [
            "/usr/local/lib/python3.7/dist-packages/seaborn/_decorators.py:43: FutureWarning: Pass the following variables as keyword args: x, y. From version 0.12, the only valid positional argument will be `data`, and passing other arguments without an explicit keyword will result in an error or misinterpretation.\n",
            "  FutureWarning\n"
          ]
        },
        {
          "output_type": "execute_result",
          "data": {
            "text/plain": [
              "Text(1.0, -1.5, '$R^2$ = 0.9 \\nMAE = 0.2 ')"
            ]
          },
          "metadata": {},
          "execution_count": 15
        },
        {
          "output_type": "display_data",
          "data": {
            "text/plain": [
              "<Figure size 432x288 with 1 Axes>"
            ],
            "image/png": "[encoded data removed]"
          },
          "metadata": {
            "needs_background": "light"
          }
        }
      ]
    }
  ]
}
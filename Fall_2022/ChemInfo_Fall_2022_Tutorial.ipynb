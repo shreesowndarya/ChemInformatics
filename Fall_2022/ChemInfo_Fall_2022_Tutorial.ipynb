{
 "cells": [
  {
   "cell_type": "markdown",
   "metadata": {
    "id": "y-v6LZYq7Oed"
   },
   "source": [
    "# Chem Informatics Tutorial on nfp and GNNs\n",
    "\n",
    "02nd Nov 2022\n",
    "\n",
    "Shree Sowndarya S V\n",
    "\n",
    "This collab can be run remoting using google's computing resources as well as on local machines. Most of the comments would remain the same aside for enviroment setup i.e., the installation of software blocks."
   ]
  },
  {
   "cell_type": "markdown",
   "metadata": {
    "id": "rRfiYsry0GK6"
   },
   "source": [
    "# Necessary packages to install for this code to run\n",
    "\n",
    "*   Step 1: PIP installation of necessary packages\n"
   ]
  },
  {
   "cell_type": "code",
   "execution_count": 23,
   "metadata": {
    "colab": {
     "base_uri": "https://localhost:8080/"
    },
    "id": "bT7BNen82TVB",
    "outputId": "ff0ee1d9-3524-4eb6-c6a3-11314aa1c4fb"
   },
   "outputs": [
    {
     "name": "stdout",
     "output_type": "stream",
     "text": [
      "CPU times: user 2 µs, sys: 1e+03 ns, total: 3 µs\n",
      "Wall time: 5.72 µs\n"
     ]
    }
   ],
   "source": [
    "%%time\n",
    "#install nfp\n",
    "# git clone https://github.com/shreesowndarya/nfp.git -b shree_changes\n",
    "# python setup.py install"
   ]
  },
  {
   "cell_type": "markdown",
   "metadata": {
    "id": "Gu6TpnqD_ve9"
   },
   "source": [
    "# Necessary datasets we would be working with \n",
    "\n",
    "*   Step 1: Loading the dataset from github\n",
    "*   Step 2: Split the data for train and test\n"
   ]
  },
  {
   "cell_type": "code",
   "execution_count": 24,
   "metadata": {
    "colab": {
     "base_uri": "https://localhost:8080/",
     "height": 204
    },
    "id": "90l83vTM_ufB",
    "outputId": "d42ffc40-4382-4dbc-fd1f-3516ec249d93"
   },
   "outputs": [
    {
     "data": {
      "text/html": [
       "<div>\n",
       "<style scoped>\n",
       "    .dataframe tbody tr th:only-of-type {\n",
       "        vertical-align: middle;\n",
       "    }\n",
       "\n",
       "    .dataframe tbody tr th {\n",
       "        vertical-align: top;\n",
       "    }\n",
       "\n",
       "    .dataframe thead th {\n",
       "        text-align: right;\n",
       "    }\n",
       "</style>\n",
       "<table border=\"1\" class=\"dataframe\">\n",
       "  <thead>\n",
       "    <tr style=\"text-align: right;\">\n",
       "      <th></th>\n",
       "      <th>smiles</th>\n",
       "      <th>oxidation</th>\n",
       "      <th>reduction</th>\n",
       "    </tr>\n",
       "  </thead>\n",
       "  <tbody>\n",
       "    <tr>\n",
       "      <th>0</th>\n",
       "      <td>C[C](CO)CCC#N</td>\n",
       "      <td>0.027999</td>\n",
       "      <td>-1.660134</td>\n",
       "    </tr>\n",
       "    <tr>\n",
       "      <th>1</th>\n",
       "      <td>CC1=CC[C](O)CC1</td>\n",
       "      <td>-0.770340</td>\n",
       "      <td>-1.920379</td>\n",
       "    </tr>\n",
       "    <tr>\n",
       "      <th>2</th>\n",
       "      <td>C=CCCC[CH]CCN</td>\n",
       "      <td>0.231808</td>\n",
       "      <td>-1.867590</td>\n",
       "    </tr>\n",
       "    <tr>\n",
       "      <th>3</th>\n",
       "      <td>C[C](C)NCCCN</td>\n",
       "      <td>-1.777168</td>\n",
       "      <td>-2.273575</td>\n",
       "    </tr>\n",
       "    <tr>\n",
       "      <th>4</th>\n",
       "      <td>[CH2]O/C=C/C(=O)OC</td>\n",
       "      <td>0.374692</td>\n",
       "      <td>-1.128816</td>\n",
       "    </tr>\n",
       "  </tbody>\n",
       "</table>\n",
       "</div>"
      ],
      "text/plain": [
       "               smiles  oxidation  reduction\n",
       "0       C[C](CO)CCC#N   0.027999  -1.660134\n",
       "1     CC1=CC[C](O)CC1  -0.770340  -1.920379\n",
       "2       C=CCCC[CH]CCN   0.231808  -1.867590\n",
       "3        C[C](C)NCCCN  -1.777168  -2.273575\n",
       "4  [CH2]O/C=C/C(=O)OC   0.374692  -1.128816"
      ]
     },
     "execution_count": 24,
     "metadata": {},
     "output_type": "execute_result"
    }
   ],
   "source": [
    "# Step 1: Loading the dataset from github\n",
    "import pandas as pd\n",
    "url = 'https://raw.githubusercontent.com/shreesowndarya/HRC/main/reduced_radical_db_redox_potentials.csv'\n",
    "data = pd.read_csv(url)\n",
    "data.head()"
   ]
  },
  {
   "cell_type": "code",
   "execution_count": 25,
   "metadata": {
    "colab": {
     "base_uri": "https://localhost:8080/"
    },
    "id": "wlejxYTfApk-",
    "outputId": "ca423f65-078e-4d17-d6ed-8e5d37556033"
   },
   "outputs": [
    {
     "name": "stdout",
     "output_type": "stream",
     "text": [
      "Training Set: 2097\n",
      "Validation Set: 100\n",
      "Testing Set: 100\n"
     ]
    }
   ],
   "source": [
    "# Step 2: Split the data for train and test\n",
    "import numpy as np\n",
    "valid, test, train = np.split(data.smiles.sample(frac=1., random_state=1), [100, 200])\n",
    "print('Training Set:', len(train))\n",
    "print('Validation Set:' , len(valid))\n",
    "print('Testing Set:' , len(test))"
   ]
  },
  {
   "cell_type": "markdown",
   "metadata": {
    "id": "B0p1aybt5FEb"
   },
   "source": [
    "# nfp example\n",
    "\n",
    "*   Step 1: Import nfp for processing smiles to graphs\n",
    "*   Step 2: Define the kind of features we are using for atoms and bonds in the molecule\n",
    "*   Step 3: Example showing the features utilized for atoms and bonds\n",
    "*   Step 4: create a nfp graph processor using the feature we need\n",
    "*   Step 5: Example of graphical inputs for SMILES - 'CCO'\n",
    "*   Step 6: Graphical inputs for a dataset of SMILES- What do the numbers mean?"
   ]
  },
  {
   "cell_type": "code",
   "execution_count": 26,
   "metadata": {
    "id": "1XRIoSG05WvV"
   },
   "outputs": [],
   "source": [
    "# Step 1:\n",
    "from nfp.preprocessing.features import get_ring_size"
   ]
  },
  {
   "cell_type": "code",
   "execution_count": 27,
   "metadata": {
    "id": "AIyMz96M6QjF"
   },
   "outputs": [],
   "source": [
    "# Step 2: Definition the kind of features we are using for atoms and bonds in the molecule\n",
    "def atom_featurizer(atom):\n",
    "    \"\"\" Return a string representing the atom type \n",
    "    \n",
    "    returns [symbol, is_aromatic, ring_size, degree, total_num_Hs]\n",
    "    \"\"\"\n",
    "\n",
    "    return str((\n",
    "        atom.GetSymbol(),\n",
    "        atom.GetIsAromatic(),\n",
    "        get_ring_size(atom, max_size=6),\n",
    "        atom.GetDegree(),\n",
    "        atom.GetTotalNumHs(includeNeighbors=True)\n",
    "    ))\n",
    "\n",
    "def bond_featurizer(bond, flipped=False):\n",
    "    \"\"\" Get a similar classification of the bond type.\n",
    "    Flipped indicates which 'direction' the bond edge is pointing.\n",
    "\n",
    "    returns [atoms_in_bond, bond_type, ring_size]\n",
    "    \"\"\"\n",
    "    \n",
    "    if not flipped:\n",
    "        atoms = \"{}-{}\".format(\n",
    "            *tuple((bond.GetBeginAtom().GetSymbol(),\n",
    "                    bond.GetEndAtom().GetSymbol())))\n",
    "    else:\n",
    "        atoms = \"{}-{}\".format(\n",
    "            *tuple((bond.GetEndAtom().GetSymbol(),\n",
    "                    bond.GetBeginAtom().GetSymbol())))\n",
    "    \n",
    "    btype = str(bond.GetBondType())\n",
    "    ring = 'R{}'.format(get_ring_size(bond, max_size=6)) if bond.IsInRing() else ''\n",
    "    \n",
    "    return \" \".join([atoms, btype, ring]).strip()"
   ]
  },
  {
   "cell_type": "code",
   "execution_count": 28,
   "metadata": {
    "colab": {
     "base_uri": "https://localhost:8080/"
    },
    "id": "F7Izfnsg-jdM",
    "outputId": "2b17bd22-c547-4e1b-be45-f6ec837b99c6"
   },
   "outputs": [
    {
     "name": "stdout",
     "output_type": "stream",
     "text": [
      "Atom features: ('C', False, 0, 1, 3)\n",
      "Bond features: C-O SINGLE\n"
     ]
    }
   ],
   "source": [
    "# Step 3: Example showing the features utilized for atoms and bonds\n",
    "from rdkit import Chem\n",
    "\n",
    "smiles = 'CCO'\n",
    "mol = Chem.MolFromSmiles(smiles)\n",
    "print('Atom features:', atom_featurizer(mol.GetAtoms()[0]))\n",
    "print('Bond features:', bond_featurizer(mol.GetBonds()[1]))"
   ]
  },
  {
   "cell_type": "code",
   "execution_count": 29,
   "metadata": {
    "id": "q_jIUDfx9yiD"
   },
   "outputs": [],
   "source": [
    "# Step 4: create a nfp graph processor using the feature we need\n",
    "from nfp.preprocessing.mol_preprocessor import SmilesPreprocessor\n",
    "preprocessor = SmilesPreprocessor(atom_features=atom_featurizer, bond_features=bond_featurizer, explicit_hs=False)"
   ]
  },
  {
   "cell_type": "code",
   "execution_count": 30,
   "metadata": {
    "colab": {
     "base_uri": "https://localhost:8080/"
    },
    "id": "Oj6Y8IMQ94iL",
    "outputId": "1ebe2012-2b07-4340-83a7-ede867e4f290"
   },
   "outputs": [
    {
     "name": "stdout",
     "output_type": "stream",
     "text": [
      "Atoms Classes: [2 3 4]\n",
      "Bond Classes: [2 2 3 4]\n",
      "Connectivity: [[0 1]\n",
      " [1 0]\n",
      " [1 2]\n",
      " [2 1]]\n"
     ]
    }
   ],
   "source": [
    "# Step 5: Example of graphical inputs for SMILES - 'CCO'\n",
    "print('Atoms Classes:', preprocessor(smiles, train=True)['atom']) # Atom types, as integer classes\n",
    "print('Bond Classes:', preprocessor(smiles, train=True)['bond']) # Bond types, as integer classes\n",
    "print('Connectivity:', preprocessor(smiles, train=True)['connectivity']) # A connectivity array, where row i \n",
    "                                                                  #indicates bond i connects atom j to atom k"
   ]
  },
  {
   "cell_type": "code",
   "execution_count": 31,
   "metadata": {
    "colab": {
     "base_uri": "https://localhost:8080/"
    },
    "id": "tqXVyWonDpqV",
    "outputId": "cf4796f0-ae64-4d10-d0d8-3c950d6102ad"
   },
   "outputs": [
    {
     "name": "stdout",
     "output_type": "stream",
     "text": [
      "Atom data types: \n",
      " unk                           1\n",
      "('C', False, 0, 1, 3)         2\n",
      "('C', False, 0, 2, 2)         3\n",
      "('O', False, 0, 1, 1)         4\n",
      "('C', False, 0, 3, 0)         5\n",
      "                             ..\n",
      "('S', False, 'max', 3, 0)    88\n",
      "('S', False, 3, 2, 0)        89\n",
      "('S', False, 4, 2, 0)        90\n",
      "('C', True, 3, 3, 0)         91\n",
      "('N', False, 3, 4, 0)        92\n",
      "Length: 92, dtype: int64\n",
      "\n",
      "Bond data types: \n",
      " unk                  1\n",
      "C-C SINGLE           2\n",
      "C-O SINGLE           3\n",
      "O-C SINGLE           4\n",
      "C-N TRIPLE           5\n",
      "                  ... \n",
      "O-S SINGLE R5      116\n",
      "S-O SINGLE R5      117\n",
      "N-N DOUBLE R3      118\n",
      "C-C TRIPLE Rmax    119\n",
      "C-C AROMATIC R3    120\n",
      "Length: 120, dtype: int64\n"
     ]
    }
   ],
   "source": [
    "# Step 6: Graphical inputs for a dataset of SMILES - What do the numbers mean?\n",
    "for smiles in data.smiles: \n",
    "    preprocessor(smiles, train=True)\n",
    "\n",
    "print('Atom data types: \\n', pd.Series(preprocessor.atom_tokenizer._data))\n",
    "print('\\nBond data types: \\n', pd.Series(preprocessor.bond_tokenizer._data))"
   ]
  },
  {
   "cell_type": "markdown",
   "metadata": {
    "id": "efSVU0vgLeEC"
   },
   "source": [
    "# Building Graphs with xTB features\n",
    "\n",
    "*   Step 1: Run xtb calculation to obtain properties as a json file (example shown)\n",
    "*   Step 2: Use xTB preprocessor to build graphs with xtb features added to atoms and nodes\n",
    "*   Step 3: Compile and construct the GNNs"
   ]
  },
  {
   "cell_type": "code",
   "execution_count": 32,
   "metadata": {
    "colab": {
     "base_uri": "https://localhost:8080/",
     "height": 204
    },
    "id": "4ZQMVWTIPWSe",
    "outputId": "65411ccb-083a-4692-e14b-fb1737284360"
   },
   "outputs": [
    {
     "data": {
      "text/html": [
       "<div>\n",
       "<style scoped>\n",
       "    .dataframe tbody tr th:only-of-type {\n",
       "        vertical-align: middle;\n",
       "    }\n",
       "\n",
       "    .dataframe tbody tr th {\n",
       "        vertical-align: top;\n",
       "    }\n",
       "\n",
       "    .dataframe thead th {\n",
       "        text-align: right;\n",
       "    }\n",
       "</style>\n",
       "<table border=\"1\" class=\"dataframe\">\n",
       "  <thead>\n",
       "    <tr style=\"text-align: right;\">\n",
       "      <th></th>\n",
       "      <th>Species</th>\n",
       "      <th>CAS</th>\n",
       "      <th>Ref</th>\n",
       "      <th>Type</th>\n",
       "      <th>YSI</th>\n",
       "      <th>YSI_err</th>\n",
       "      <th>SMILES</th>\n",
       "      <th>xtbjson</th>\n",
       "    </tr>\n",
       "  </thead>\n",
       "  <tbody>\n",
       "    <tr>\n",
       "      <th>0</th>\n",
       "      <td>1-ethynyl-2,5-dimethylbenzene</td>\n",
       "      <td>74331-70-7</td>\n",
       "      <td>1.0</td>\n",
       "      <td>aromatic</td>\n",
       "      <td>512.7</td>\n",
       "      <td>19.6</td>\n",
       "      <td>C#Cc1cc(C)ccc1C</td>\n",
       "      <td>519175_3342b2_bd_coord.json</td>\n",
       "    </tr>\n",
       "    <tr>\n",
       "      <th>1</th>\n",
       "      <td>2-methylindene</td>\n",
       "      <td>2177-47-1</td>\n",
       "      <td>1.0</td>\n",
       "      <td>aromatic</td>\n",
       "      <td>500.1</td>\n",
       "      <td>19.1</td>\n",
       "      <td>CC1=Cc2ccccc2C1</td>\n",
       "      <td>437628_fd0a51_bd_coord.json</td>\n",
       "    </tr>\n",
       "    <tr>\n",
       "      <th>2</th>\n",
       "      <td>azulene</td>\n",
       "      <td>275-51-4</td>\n",
       "      <td>2.0</td>\n",
       "      <td>aromatic</td>\n",
       "      <td>492.3</td>\n",
       "      <td>19.0</td>\n",
       "      <td>c1ccc2cccc-2cc1</td>\n",
       "      <td>435907_1c36e8_bd_coord.json</td>\n",
       "    </tr>\n",
       "    <tr>\n",
       "      <th>3</th>\n",
       "      <td>1-ethynyl-2-methylbenzene</td>\n",
       "      <td>766-47-2</td>\n",
       "      <td>1.0</td>\n",
       "      <td>aromatic</td>\n",
       "      <td>485.0</td>\n",
       "      <td>18.5</td>\n",
       "      <td>C#Cc1ccccc1C</td>\n",
       "      <td>22307_0_bd_coord.json</td>\n",
       "    </tr>\n",
       "    <tr>\n",
       "      <th>4</th>\n",
       "      <td>1-ethenyl-2,5-dimethylbenzene</td>\n",
       "      <td>2039-89-6</td>\n",
       "      <td>1.0</td>\n",
       "      <td>aromatic</td>\n",
       "      <td>469.3</td>\n",
       "      <td>17.8</td>\n",
       "      <td>C=Cc1cc(C)ccc1C</td>\n",
       "      <td>509114_ad5711_bd_coord.json</td>\n",
       "    </tr>\n",
       "  </tbody>\n",
       "</table>\n",
       "</div>"
      ],
      "text/plain": [
       "                         Species         CAS  Ref      Type    YSI  YSI_err  \\\n",
       "0  1-ethynyl-2,5-dimethylbenzene  74331-70-7  1.0  aromatic  512.7     19.6   \n",
       "1                 2-methylindene   2177-47-1  1.0  aromatic  500.1     19.1   \n",
       "2                        azulene    275-51-4  2.0  aromatic  492.3     19.0   \n",
       "3      1-ethynyl-2-methylbenzene    766-47-2  1.0  aromatic  485.0     18.5   \n",
       "4  1-ethenyl-2,5-dimethylbenzene   2039-89-6  1.0  aromatic  469.3     17.8   \n",
       "\n",
       "            SMILES                      xtbjson  \n",
       "0  C#Cc1cc(C)ccc1C  519175_3342b2_bd_coord.json  \n",
       "1  CC1=Cc2ccccc2C1  437628_fd0a51_bd_coord.json  \n",
       "2  c1ccc2cccc-2cc1  435907_1c36e8_bd_coord.json  \n",
       "3     C#Cc1ccccc1C        22307_0_bd_coord.json  \n",
       "4  C=Cc1cc(C)ccc1C  509114_ad5711_bd_coord.json  "
      ]
     },
     "execution_count": 32,
     "metadata": {},
     "output_type": "execute_result"
    }
   ],
   "source": [
    "#readint the data with the links to xtbjson\n",
    "url = 'https://raw.githubusercontent.com/shreesowndarya/ChemInformatics/main/Fall_2022/ysi_xtb.csv'\n",
    "data2 = pd.read_csv(url)\n",
    "data2.head()"
   ]
  },
  {
   "cell_type": "code",
   "execution_count": 33,
   "metadata": {
    "colab": {
     "base_uri": "https://localhost:8080/"
    },
    "id": "FPgtBt45Pn1Q",
    "outputId": "138bfebd-f8f7-4fec-d3a1-e81ed51a163b"
   },
   "outputs": [
    {
     "data": {
      "text/plain": [
       "(134, 50, 50)"
      ]
     },
     "execution_count": 33,
     "metadata": {},
     "output_type": "execute_result"
    }
   ],
   "source": [
    "# Split the data into training, validation, and test sets\n",
    "valid2, test2, train2 = np.split(data2[['SMILES','xtbjson']].sample(frac=1., random_state=1), [50, 100])\n",
    "len(train2), len(valid2), len(test2)"
   ]
  },
  {
   "cell_type": "code",
   "execution_count": 34,
   "metadata": {
    "colab": {
     "base_uri": "https://localhost:8080/",
     "height": 181
    },
    "id": "j_wYysB5QCv1",
    "outputId": "f952ee4b-3ac6-4d8b-b19f-d7552a700acd"
   },
   "outputs": [],
   "source": [
    "#loading in xTB preprocessor\n",
    "from nfp.preprocessing.xtb_preprocessor import xTBSmilesPreprocessor\n",
    "preprocessorxtb = xTBSmilesPreprocessor(atom_features=atom_featurizer, bond_features=bond_featurizer)"
   ]
  },
  {
   "cell_type": "code",
   "execution_count": 35,
   "metadata": {},
   "outputs": [],
   "source": [
    "# Main input types for a SMILES-based prediction\n",
    "smiles = 'C=C(C)CC(C)(C)C'\n",
    "jsonfile = 'json/4921_0_bd_coord.json'\n",
    "\n",
    "# Atom types, as integer classes\n",
    "xtb_inputs = preprocessorxtb(smiles, jsonfile=jsonfile, train=True)"
   ]
  },
  {
   "cell_type": "code",
   "execution_count": 36,
   "metadata": {},
   "outputs": [
    {
     "data": {
      "text/plain": [
       "{'atom_indices': array([ 0,  1,  2,  3,  4,  5,  6,  7,  8,  9, 10, 11, 12, 13, 14, 15, 16,\n",
       "        17, 18, 19, 20, 21, 22, 23], dtype=int32),\n",
       " 'atom': array([2, 3, 4, 5, 6, 4, 4, 4, 7, 7, 7, 7, 7, 7, 7, 7, 7, 7, 7, 7, 7, 7,\n",
       "        7, 7], dtype=int32),\n",
       " 'atom_xtb': array([[-2.0606928 , -1.6120849 , -1.3153727 , -0.8517737 , -1.191078  ,\n",
       "          1.3394293 ,  1.4466555 ,  0.        ,  0.        ,  0.        ,\n",
       "          0.        ,  0.        ,  2.0678065 ,  2.181046  ],\n",
       "        [ 0.4309656 , -0.02760521, -2.3100824 , -0.44524527, -1.6921847 ,\n",
       "          2.6923866 ,  1.3149185 ,  0.        ,  0.        ,  0.        ,\n",
       "          0.        ,  0.        ,  1.7533343 ,  1.9715408 ],\n",
       "        [-1.6546047 , -1.7723731 ,  1.546599  ,  1.9939245 ,  1.7927859 ,\n",
       "          0.44647667,  1.4543637 ,  0.        ,  0.        ,  0.        ,\n",
       "          0.        ,  0.        ,  1.2734121 ,  1.1803653 ],\n",
       "        [-1.1914048 , -1.2503973 ,  1.1801271 ,  1.2099056 ,  1.2461238 ,\n",
       "          1.2311907 ,  1.4158235 ,  0.        ,  0.        ,  0.        ,\n",
       "          0.        ,  0.        ,  1.1990964 ,  1.1257118 ],\n",
       "        [ 0.76480824,  0.03784585,  0.51698726,  0.4549245 ,  0.51724106,\n",
       "          2.4217951 ,  1.3093128 ,  0.        ,  0.        ,  0.        ,\n",
       "          0.        ,  0.        ,  1.0118409 ,  0.9929818 ],\n",
       "        [-1.7868445 , -1.845987  ,  1.0579697 ,  1.8487358 ,  1.4283445 ,\n",
       "          0.63589007,  1.4543637 ,  0.        ,  0.        ,  0.        ,\n",
       "          0.        ,  0.        ,  1.2714564 ,  1.1786305 ],\n",
       "        [-1.7974743 , -1.8480648 ,  1.0579697 ,  1.6454716 ,  1.3372341 ,\n",
       "          0.58177245,  1.455765  ,  0.        ,  0.        ,  0.        ,\n",
       "          0.        ,  0.        ,  1.2732166 ,  1.1799316 ],\n",
       "        [-1.7920693 , -1.8460612 ,  1.0579697 ,  1.7616225 ,  1.3827893 ,\n",
       "          0.60883284,  1.455765  ,  0.        ,  0.        ,  0.        ,\n",
       "          0.        ,  0.        ,  1.266665  ,  1.175594  ],\n",
       "        [ 0.54374784,  0.63135785, -1.6992958 , -1.1131132 , -1.5555192 ,\n",
       "         -0.5817716 , -0.7066855 ,  0.        ,  0.        ,  0.        ,\n",
       "          0.        ,  0.        , -0.6888125 , -0.67351854],\n",
       "        [ 0.54014456,  0.6250502 , -1.6818446 , -1.3744528 , -1.623852  ,\n",
       "         -0.5817716 , -0.7066855 ,  0.        ,  0.        ,  0.        ,\n",
       "          0.        ,  0.        , -0.68098986, -0.6566019 ],\n",
       "        [ 0.6763481 ,  0.66690326, -0.8441945 , -1.2002263 , -1.0316348 ,\n",
       "         -0.79824543, -0.7066855 ,  0.        ,  0.        ,  0.        ,\n",
       "          0.        ,  0.        , -0.70152444, -0.701279  ],\n",
       "        [ 0.62049747,  0.6484998 , -0.33811405, -0.38716978, -0.3710848 ,\n",
       "         -0.6900085 , -0.7066855 ,  0.        ,  0.        ,  0.        ,\n",
       "          0.        ,  0.        , -0.6971241 , -0.6917364 ],\n",
       "        [ 0.6329287 ,  0.6574789 , -0.7743903 , -0.8808112 , -0.8494143 ,\n",
       "         -0.717069  , -0.7066855 ,  0.        ,  0.        ,  0.        ,\n",
       "          0.        ,  0.        , -0.7101294 , -0.7207982 ],\n",
       "        [ 0.60049933,  0.67558557, -0.32066298, -0.7646605 , -0.50775045,\n",
       "         -0.6629497 , -0.7066855 ,  0.        ,  0.        ,  0.        ,\n",
       "          0.        ,  0.        , -0.698982  , -0.69564015],\n",
       "        [ 0.5165432 ,  0.64226633, -0.46027145, -0.56139624, -0.5305279 ,\n",
       "         -0.5547128 , -0.7066855 ,  0.        ,  0.        ,  0.        ,\n",
       "          0.        ,  0.        , -0.6970264 , -0.69130254],\n",
       "        [ 0.5603229 ,  0.6252728 ,  0.08071109, -0.7646605 , -0.23441938,\n",
       "         -0.60883206, -0.7066855 ,  0.        ,  0.        ,  0.        ,\n",
       "          0.        ,  0.        , -0.694484  , -0.6860975 ],\n",
       "        [ 0.5459098 ,  0.6191878 ,  0.35992786, -0.00967922,  0.22113235,\n",
       "         -0.5817716 , -0.7066855 ,  0.        ,  0.        ,  0.        ,\n",
       "          0.        ,  0.        , -0.6918438 , -0.6800249 ],\n",
       "        [ 0.53437936,  0.6141417 ,  0.32502577, -0.21294335,  0.13002208,\n",
       "         -0.5817716 , -0.7066855 ,  0.        ,  0.        ,  0.        ,\n",
       "          0.        ,  0.        , -0.69106156, -0.67828983],\n",
       "        [ 0.54266685,  0.61859417, -0.00654413, -0.32909432, -0.143309  ,\n",
       "         -0.5817716 , -0.7066855 ,  0.        ,  0.        ,  0.        ,\n",
       "          0.        ,  0.        , -0.6925283 , -0.6813261 ],\n",
       "        [ 0.5379826 ,  0.6177037 ,  0.412281  ,  0.04839626,  0.28946516,\n",
       "         -0.5817716 , -0.7066855 ,  0.        ,  0.        ,  0.        ,\n",
       "          0.        ,  0.        , -0.6918438 , -0.6800249 ],\n",
       "        [ 0.57095253,  0.6420437 ,  0.9358124 ,  0.39684904,  0.7677945 ,\n",
       "         -0.6358909 , -0.7066855 ,  0.        ,  0.        ,  0.        ,\n",
       "          0.        ,  0.        , -0.7013289 , -0.7008453 ],\n",
       "        [ 0.582483  ,  0.6438989 ,  0.7962041 ,  0.42588678,  0.67668414,\n",
       "         -0.6358909 , -0.7066855 ,  0.        ,  0.        ,  0.        ,\n",
       "          0.        ,  0.        , -0.6970264 , -0.6917364 ],\n",
       "        [ 0.5581609 ,  0.62482756,  0.04580899, -0.8517737 , -0.3027521 ,\n",
       "         -0.60883206, -0.7066855 ,  0.        ,  0.        ,  0.        ,\n",
       "          0.        ,  0.        , -0.6918438 , -0.6800249 ],\n",
       "        [ 0.5237497 ,  0.61191547,  0.3773789 , -0.03871701,  0.24390998,\n",
       "         -0.5547128 , -0.7066855 ,  0.        ,  0.        ,  0.        ,\n",
       "          0.        ,  0.        , -0.69027925, -0.6765548 ]],\n",
       "       dtype=float32),\n",
       " 'bond': array([2, 3, 3, 2, 4, 4, 4, 5, 5, 5, 4, 6, 5, 5, 6, 6, 6, 6, 6, 5, 5, 5,\n",
       "        6, 5, 5, 5, 6, 5, 5, 5, 3, 3, 5, 5, 5, 5, 5, 5, 5, 5, 5, 5, 5, 5,\n",
       "        5, 5], dtype=int32),\n",
       " 'bond_xtb': array([[ 4.6787024 ,  0.5883497 ],\n",
       "        [-0.26538798, -0.70287454],\n",
       "        [-0.26281595, -0.69756067],\n",
       "        [ 4.6787024 ,  0.5883497 ],\n",
       "        [-0.00806697,  1.5032666 ],\n",
       "        [-0.08113296,  1.5354059 ],\n",
       "        [-0.00806697,  1.5032666 ],\n",
       "        [-0.29784286, -0.62833464],\n",
       "        [-0.21564269, -0.64712864],\n",
       "        [-0.28378242, -0.6462814 ],\n",
       "        [-0.08113296,  1.5354059 ],\n",
       "        [-0.31868353,  1.7498279 ],\n",
       "        [-0.29647955, -0.6191336 ],\n",
       "        [-0.27892956, -0.6202622 ],\n",
       "        [-0.31868353,  1.7498279 ],\n",
       "        [-0.1540896 ,  1.670489  ],\n",
       "        [-0.13472682,  1.6529068 ],\n",
       "        [-0.13884088,  1.655738  ],\n",
       "        [-0.1540896 ,  1.670489  ],\n",
       "        [-0.21504112, -0.6433937 ],\n",
       "        [-0.2101926 , -0.6433459 ],\n",
       "        [-0.21055038, -0.6424663 ],\n",
       "        [-0.13472682,  1.6529068 ],\n",
       "        [-0.21536236, -0.6423415 ],\n",
       "        [-0.21172968, -0.64377445],\n",
       "        [-0.22828656, -0.64888895],\n",
       "        [-0.13884088,  1.655738  ],\n",
       "        [-0.22062162, -0.647274  ],\n",
       "        [-0.21525083, -0.64107496],\n",
       "        [-0.21524526, -0.6418489 ],\n",
       "        [-0.26538798, -0.70287454],\n",
       "        [-0.26281595, -0.69756067],\n",
       "        [-0.29784286, -0.62833464],\n",
       "        [-0.21564269, -0.64712864],\n",
       "        [-0.28378242, -0.6462814 ],\n",
       "        [-0.29647955, -0.6191336 ],\n",
       "        [-0.27892956, -0.6202622 ],\n",
       "        [-0.21504112, -0.6433937 ],\n",
       "        [-0.2101926 , -0.6433459 ],\n",
       "        [-0.21055038, -0.6424663 ],\n",
       "        [-0.21536236, -0.6423415 ],\n",
       "        [-0.21172968, -0.64377445],\n",
       "        [-0.22828656, -0.64888895],\n",
       "        [-0.22062162, -0.647274  ],\n",
       "        [-0.21525083, -0.64107496],\n",
       "        [-0.21524526, -0.6418489 ]], dtype=float32),\n",
       " 'bond_indices': array([ 0,  7,  8,  0,  1,  2,  1,  9, 10, 11,  2,  3, 12, 13,  3,  4,  5,\n",
       "         6,  4, 14, 15, 16,  5, 17, 18, 19,  6, 20, 21, 22,  7,  8,  9, 10,\n",
       "        11, 12, 13, 14, 15, 16, 17, 18, 19, 20, 21, 22], dtype=int32),\n",
       " 'bond_atom_indices': array([[ 0,  1],\n",
       "        [ 0,  8],\n",
       "        [ 0,  9],\n",
       "        [ 1,  0],\n",
       "        [ 1,  2],\n",
       "        [ 1,  3],\n",
       "        [ 2,  1],\n",
       "        [ 2, 10],\n",
       "        [ 2, 11],\n",
       "        [ 2, 12],\n",
       "        [ 3,  1],\n",
       "        [ 3,  4],\n",
       "        [ 3, 13],\n",
       "        [ 3, 14],\n",
       "        [ 4,  3],\n",
       "        [ 4,  5],\n",
       "        [ 4,  6],\n",
       "        [ 4,  7],\n",
       "        [ 5,  4],\n",
       "        [ 5, 15],\n",
       "        [ 5, 16],\n",
       "        [ 5, 17],\n",
       "        [ 6,  4],\n",
       "        [ 6, 18],\n",
       "        [ 6, 19],\n",
       "        [ 6, 20],\n",
       "        [ 7,  4],\n",
       "        [ 7, 21],\n",
       "        [ 7, 22],\n",
       "        [ 7, 23],\n",
       "        [ 8,  0],\n",
       "        [ 9,  0],\n",
       "        [10,  2],\n",
       "        [11,  2],\n",
       "        [12,  2],\n",
       "        [13,  3],\n",
       "        [14,  3],\n",
       "        [15,  5],\n",
       "        [16,  5],\n",
       "        [17,  5],\n",
       "        [18,  6],\n",
       "        [19,  6],\n",
       "        [20,  6],\n",
       "        [21,  7],\n",
       "        [22,  7],\n",
       "        [23,  7]], dtype=int32),\n",
       " 'mol_xtb': array([-25.27425892, -25.68649081, -10.3364    ,  -5.1588    ]),\n",
       " 'connectivity': array([[ 0,  1],\n",
       "        [ 0,  8],\n",
       "        [ 0,  9],\n",
       "        [ 1,  0],\n",
       "        [ 1,  2],\n",
       "        [ 1,  3],\n",
       "        [ 2,  1],\n",
       "        [ 2, 10],\n",
       "        [ 2, 11],\n",
       "        [ 2, 12],\n",
       "        [ 3,  1],\n",
       "        [ 3,  4],\n",
       "        [ 3, 13],\n",
       "        [ 3, 14],\n",
       "        [ 4,  3],\n",
       "        [ 4,  5],\n",
       "        [ 4,  6],\n",
       "        [ 4,  7],\n",
       "        [ 5,  4],\n",
       "        [ 5, 15],\n",
       "        [ 5, 16],\n",
       "        [ 5, 17],\n",
       "        [ 6,  4],\n",
       "        [ 6, 18],\n",
       "        [ 6, 19],\n",
       "        [ 6, 20],\n",
       "        [ 7,  4],\n",
       "        [ 7, 21],\n",
       "        [ 7, 22],\n",
       "        [ 7, 23],\n",
       "        [ 8,  0],\n",
       "        [ 9,  0],\n",
       "        [10,  2],\n",
       "        [11,  2],\n",
       "        [12,  2],\n",
       "        [13,  3],\n",
       "        [14,  3],\n",
       "        [15,  5],\n",
       "        [16,  5],\n",
       "        [17,  5],\n",
       "        [18,  6],\n",
       "        [19,  6],\n",
       "        [20,  6],\n",
       "        [21,  7],\n",
       "        [22,  7],\n",
       "        [23,  7]])}"
      ]
     },
     "execution_count": 36,
     "metadata": {},
     "output_type": "execute_result"
    }
   ],
   "source": [
    "xtb_inputs"
   ]
  },
  {
   "cell_type": "code",
   "execution_count": 37,
   "metadata": {},
   "outputs": [],
   "source": [
    "# can use xTBSmilesPreprocessor, xTBWBOPreprocessor, xTB3DPreprocessor"
   ]
  },
  {
   "cell_type": "markdown",
   "metadata": {
    "id": "4WuI7hlg4Ebb"
   },
   "source": [
    "# Building Graph Neural Networks (GNNs)\n",
    "\n",
    "*   Step 1: Convert the graphs into tensorflow syntax for builing GNN - Here we are considering only Oxidation to keep things simple\n",
    "*   Step 2: Define the neural network model \n",
    "*   Step 3: Compile and construct the GNNs"
   ]
  },
  {
   "cell_type": "code",
   "execution_count": 38,
   "metadata": {
    "id": "H4s8CATE3j5X"
   },
   "outputs": [],
   "source": [
    "# Step 1: Convert the graphs into tensorflow syntax for builing GNN\n",
    "import tensorflow as tf\n",
    "\n",
    "train_dataset = tf.data.Dataset.from_generator(\n",
    "    lambda: ((preprocessor(row.smiles, train=True), row['oxidation'])\n",
    "            for i, row in data[data.smiles.isin(train)].iterrows()),\n",
    "    output_signature=(preprocessor.output_signature, tf.TensorSpec((), dtype=tf.float32)))\\\n",
    "    .cache().shuffle(buffer_size=200)\\\n",
    "    .padded_batch(batch_size=(128))\\\n",
    "    .prefetch(tf.data.experimental.AUTOTUNE)\n",
    "\n",
    "valid_dataset = tf.data.Dataset.from_generator(\n",
    "    lambda: ((preprocessor(row.smiles, train=False), row['oxidation'])\n",
    "            for i, row in data[data.smiles.isin(valid)].iterrows()),\n",
    "    output_signature=(preprocessor.output_signature, tf.TensorSpec((), dtype=tf.float32)))\\\n",
    "    .cache()\\\n",
    "    .padded_batch(batch_size=(64))\\\n",
    "    .prefetch(tf.data.experimental.AUTOTUNE)\n",
    "\n",
    "test_dataset = tf.data.Dataset.from_generator(\n",
    "  lambda: (preprocessor(smiles, train=False)\n",
    "          for smiles in test),\n",
    "  output_signature=preprocessor.output_signature)\\\n",
    "  .padded_batch(batch_size=len(test))\\\n",
    "  .prefetch(tf.data.experimental.AUTOTUNE)"
   ]
  },
  {
   "cell_type": "code",
   "execution_count": 39,
   "metadata": {
    "id": "6q6-jiDiFw1t"
   },
   "outputs": [],
   "source": [
    "# Step 2: Define the neural network model\n",
    "from tensorflow.keras import layers\n",
    "import nfp\n",
    "\n",
    "# Input layers\n",
    "atom = layers.Input(shape=[None], dtype=tf.int64, name='atom')\n",
    "bond = layers.Input(shape=[None], dtype=tf.int64, name='bond')\n",
    "connectivity = layers.Input(shape=[None, 2], dtype=tf.int64, name='connectivity')\n",
    "\n",
    "num_features = 8  # Controls the size of the model\n",
    "\n",
    "# Convert from a single integer defining the atom state to a vector\n",
    "# of weights associated with that class\n",
    "atom_state = layers.Embedding(preprocessor.atom_classes, num_features,\n",
    "                              name='atom_embedding', mask_zero=True)(atom)\n",
    "\n",
    "# Ditto with the bond state\n",
    "bond_state = layers.Embedding(preprocessor.bond_classes, num_features,\n",
    "                              name='bond_embedding', mask_zero=True)(bond)\n",
    "\n",
    "# Here we use our first nfp layer. This is an attention layer that looks at\n",
    "# the atom and bond states and reduces them to a single, graph-level vector. \n",
    "# mum_heads * units has to be the same dimension as the atom / bond dimension\n",
    "global_state = nfp.GlobalUpdate(units=8, num_heads=1)([atom_state, bond_state, connectivity])\n",
    "\n",
    "for _ in range(3):  # Do the message passing\n",
    "    new_bond_state = nfp.EdgeUpdate()([atom_state, bond_state, connectivity, global_state])\n",
    "    bond_state = layers.Add()([bond_state, new_bond_state])\n",
    "    \n",
    "    new_atom_state = nfp.NodeUpdate()([atom_state, bond_state, connectivity, global_state])\n",
    "    atom_state = layers.Add()([atom_state, new_atom_state])\n",
    "    \n",
    "    new_global_state = nfp.GlobalUpdate(units=8, num_heads=1)(\n",
    "        [atom_state, bond_state, connectivity, global_state]) \n",
    "    global_state = layers.Add()([global_state, new_global_state])\n",
    "\n",
    "# Since the final prediction is a single, molecule-level property (oxidation, reduction), we \n",
    "# reduce the last global state to a single prediction\n",
    "ox_prediction = layers.Dense(1)(global_state)\n",
    "\n",
    "# Construct the tf.keras model\n",
    "model = tf.keras.Model([atom, bond, connectivity], [ox_prediction])"
   ]
  },
  {
   "cell_type": "code",
   "execution_count": 40,
   "metadata": {
    "id": "U1wf4ZVeIRlX"
   },
   "outputs": [
    {
     "name": "stdout",
     "output_type": "stream",
     "text": [
      "Epoch 1/100\n",
      "17/17 [==============================] - 8s 211ms/step - loss: 0.7192 - val_loss: 0.7199\n",
      "Epoch 2/100\n",
      "17/17 [==============================] - 0s 11ms/step - loss: 0.6337 - val_loss: 0.5945\n",
      "Epoch 3/100\n",
      "17/17 [==============================] - 0s 10ms/step - loss: 0.5625 - val_loss: 0.5857\n",
      "Epoch 4/100\n",
      "17/17 [==============================] - 0s 11ms/step - loss: 0.5183 - val_loss: 0.5286\n",
      "Epoch 5/100\n",
      "17/17 [==============================] - 0s 11ms/step - loss: 0.4840 - val_loss: 0.5214\n",
      "Epoch 6/100\n",
      "17/17 [==============================] - 0s 11ms/step - loss: 0.4637 - val_loss: 0.5001\n",
      "Epoch 7/100\n",
      "17/17 [==============================] - 0s 11ms/step - loss: 0.4448 - val_loss: 0.4702\n",
      "Epoch 8/100\n",
      "17/17 [==============================] - 0s 11ms/step - loss: 0.4347 - val_loss: 0.4435\n",
      "Epoch 9/100\n",
      "17/17 [==============================] - 0s 11ms/step - loss: 0.4215 - val_loss: 0.4280\n",
      "Epoch 10/100\n",
      "17/17 [==============================] - 0s 11ms/step - loss: 0.4099 - val_loss: 0.4110\n",
      "Epoch 11/100\n",
      "17/17 [==============================] - 0s 10ms/step - loss: 0.3967 - val_loss: 0.4058\n",
      "Epoch 12/100\n",
      "17/17 [==============================] - 0s 11ms/step - loss: 0.3897 - val_loss: 0.4114\n",
      "Epoch 13/100\n",
      "17/17 [==============================] - 0s 11ms/step - loss: 0.3613 - val_loss: 0.3674\n",
      "Epoch 14/100\n",
      "17/17 [==============================] - 0s 11ms/step - loss: 0.3390 - val_loss: 0.3597\n",
      "Epoch 15/100\n",
      "17/17 [==============================] - 0s 11ms/step - loss: 0.3293 - val_loss: 0.3560\n",
      "Epoch 16/100\n",
      "17/17 [==============================] - 0s 11ms/step - loss: 0.3081 - val_loss: 0.3706\n",
      "Epoch 17/100\n",
      "17/17 [==============================] - 0s 11ms/step - loss: 0.3238 - val_loss: 0.3699\n",
      "Epoch 18/100\n",
      "17/17 [==============================] - 0s 11ms/step - loss: 0.3120 - val_loss: 0.3569\n",
      "Epoch 19/100\n",
      "17/17 [==============================] - 0s 11ms/step - loss: 0.2904 - val_loss: 0.3225\n",
      "Epoch 20/100\n",
      "17/17 [==============================] - 0s 14ms/step - loss: 0.2701 - val_loss: 0.3594\n",
      "Epoch 21/100\n",
      "17/17 [==============================] - 0s 14ms/step - loss: 0.2766 - val_loss: 0.3225\n",
      "Epoch 22/100\n",
      "17/17 [==============================] - 0s 15ms/step - loss: 0.2570 - val_loss: 0.3528\n",
      "Epoch 23/100\n",
      "17/17 [==============================] - 0s 15ms/step - loss: 0.2611 - val_loss: 0.3089\n",
      "Epoch 24/100\n",
      "17/17 [==============================] - 0s 14ms/step - loss: 0.2298 - val_loss: 0.2958\n",
      "Epoch 25/100\n",
      "17/17 [==============================] - 0s 11ms/step - loss: 0.2274 - val_loss: 0.3158\n",
      "Epoch 26/100\n",
      "17/17 [==============================] - 0s 11ms/step - loss: 0.2210 - val_loss: 0.2798\n",
      "Epoch 27/100\n",
      "17/17 [==============================] - 0s 11ms/step - loss: 0.2041 - val_loss: 0.2845\n",
      "Epoch 28/100\n",
      "17/17 [==============================] - 0s 11ms/step - loss: 0.1998 - val_loss: 0.2945\n",
      "Epoch 29/100\n",
      "17/17 [==============================] - 0s 11ms/step - loss: 0.2012 - val_loss: 0.2630\n",
      "Epoch 30/100\n",
      "17/17 [==============================] - 0s 11ms/step - loss: 0.1856 - val_loss: 0.2559\n",
      "Epoch 31/100\n",
      "17/17 [==============================] - 0s 11ms/step - loss: 0.1846 - val_loss: 0.2523\n",
      "Epoch 32/100\n",
      "17/17 [==============================] - 0s 11ms/step - loss: 0.1809 - val_loss: 0.2701\n",
      "Epoch 33/100\n",
      "17/17 [==============================] - 0s 11ms/step - loss: 0.1771 - val_loss: 0.2804\n",
      "Epoch 34/100\n",
      "17/17 [==============================] - 0s 11ms/step - loss: 0.1860 - val_loss: 0.2515\n",
      "Epoch 35/100\n",
      "17/17 [==============================] - 0s 11ms/step - loss: 0.1692 - val_loss: 0.2468\n",
      "Epoch 36/100\n",
      "17/17 [==============================] - 0s 11ms/step - loss: 0.1815 - val_loss: 0.2643\n",
      "Epoch 37/100\n",
      "17/17 [==============================] - 0s 11ms/step - loss: 0.1962 - val_loss: 0.2809\n",
      "Epoch 38/100\n",
      "17/17 [==============================] - 0s 11ms/step - loss: 0.1846 - val_loss: 0.2515\n",
      "Epoch 39/100\n",
      "17/17 [==============================] - 0s 11ms/step - loss: 0.1647 - val_loss: 0.2345\n",
      "Epoch 40/100\n",
      "17/17 [==============================] - 0s 11ms/step - loss: 0.1585 - val_loss: 0.2306\n",
      "Epoch 41/100\n",
      "17/17 [==============================] - 0s 11ms/step - loss: 0.1656 - val_loss: 0.2545\n",
      "Epoch 42/100\n",
      "17/17 [==============================] - 0s 11ms/step - loss: 0.1718 - val_loss: 0.2254\n",
      "Epoch 43/100\n",
      "17/17 [==============================] - 0s 11ms/step - loss: 0.1524 - val_loss: 0.2293\n",
      "Epoch 44/100\n",
      "17/17 [==============================] - 0s 11ms/step - loss: 0.1495 - val_loss: 0.2239\n",
      "Epoch 45/100\n",
      "17/17 [==============================] - 0s 12ms/step - loss: 0.1496 - val_loss: 0.2253\n",
      "Epoch 46/100\n",
      "17/17 [==============================] - 0s 12ms/step - loss: 0.1466 - val_loss: 0.2296\n",
      "Epoch 47/100\n",
      "17/17 [==============================] - 0s 12ms/step - loss: 0.1512 - val_loss: 0.2261\n",
      "Epoch 48/100\n",
      "17/17 [==============================] - 0s 15ms/step - loss: 0.1457 - val_loss: 0.2324\n",
      "Epoch 49/100\n",
      "17/17 [==============================] - 0s 20ms/step - loss: 0.1518 - val_loss: 0.2350\n",
      "Epoch 50/100\n",
      "17/17 [==============================] - 0s 11ms/step - loss: 0.1492 - val_loss: 0.2264\n",
      "Epoch 51/100\n",
      "17/17 [==============================] - 0s 11ms/step - loss: 0.1389 - val_loss: 0.2276\n",
      "Epoch 52/100\n",
      "17/17 [==============================] - 0s 13ms/step - loss: 0.1390 - val_loss: 0.2187\n",
      "Epoch 53/100\n",
      "17/17 [==============================] - 0s 12ms/step - loss: 0.1412 - val_loss: 0.2241\n",
      "Epoch 54/100\n",
      "17/17 [==============================] - 0s 11ms/step - loss: 0.1331 - val_loss: 0.2226\n",
      "Epoch 55/100\n",
      "17/17 [==============================] - 0s 11ms/step - loss: 0.1362 - val_loss: 0.2303\n",
      "Epoch 56/100\n",
      "17/17 [==============================] - 0s 11ms/step - loss: 0.1439 - val_loss: 0.2234\n",
      "Epoch 57/100\n",
      "17/17 [==============================] - 0s 11ms/step - loss: 0.1423 - val_loss: 0.2292\n",
      "Epoch 58/100\n",
      "17/17 [==============================] - 0s 11ms/step - loss: 0.1474 - val_loss: 0.2245\n",
      "Epoch 59/100\n",
      "17/17 [==============================] - 0s 12ms/step - loss: 0.1379 - val_loss: 0.2222\n",
      "Epoch 60/100\n",
      "17/17 [==============================] - 0s 12ms/step - loss: 0.1447 - val_loss: 0.2413\n",
      "Epoch 61/100\n",
      "17/17 [==============================] - 0s 10ms/step - loss: 0.1473 - val_loss: 0.2219\n",
      "Epoch 62/100\n",
      "17/17 [==============================] - 0s 12ms/step - loss: 0.1334 - val_loss: 0.2173\n",
      "Epoch 63/100\n",
      "17/17 [==============================] - 0s 13ms/step - loss: 0.1347 - val_loss: 0.2193\n",
      "Epoch 64/100\n",
      "17/17 [==============================] - 0s 11ms/step - loss: 0.1338 - val_loss: 0.2191\n",
      "Epoch 65/100\n",
      "17/17 [==============================] - 0s 12ms/step - loss: 0.1267 - val_loss: 0.2146\n",
      "Epoch 66/100\n",
      "17/17 [==============================] - 0s 11ms/step - loss: 0.1209 - val_loss: 0.2272\n",
      "Epoch 67/100\n",
      "17/17 [==============================] - 0s 13ms/step - loss: 0.1266 - val_loss: 0.2024\n",
      "Epoch 68/100\n",
      "17/17 [==============================] - 0s 12ms/step - loss: 0.1192 - val_loss: 0.2124\n",
      "Epoch 69/100\n",
      "17/17 [==============================] - 0s 12ms/step - loss: 0.1169 - val_loss: 0.2156\n",
      "Epoch 70/100\n",
      "17/17 [==============================] - 0s 12ms/step - loss: 0.1401 - val_loss: 0.2526\n",
      "Epoch 71/100\n",
      "17/17 [==============================] - 0s 13ms/step - loss: 0.1469 - val_loss: 0.2091\n",
      "Epoch 72/100\n",
      "17/17 [==============================] - 0s 13ms/step - loss: 0.1234 - val_loss: 0.2021\n",
      "Epoch 73/100\n",
      "17/17 [==============================] - 0s 13ms/step - loss: 0.1242 - val_loss: 0.2288\n",
      "Epoch 74/100\n",
      "17/17 [==============================] - 0s 14ms/step - loss: 0.1269 - val_loss: 0.2028\n",
      "Epoch 75/100\n",
      "17/17 [==============================] - 0s 11ms/step - loss: 0.1146 - val_loss: 0.2113\n",
      "Epoch 76/100\n",
      "17/17 [==============================] - 0s 13ms/step - loss: 0.1161 - val_loss: 0.2073\n",
      "Epoch 77/100\n",
      "17/17 [==============================] - 0s 13ms/step - loss: 0.1134 - val_loss: 0.2089\n",
      "Epoch 78/100\n",
      "17/17 [==============================] - 0s 12ms/step - loss: 0.1160 - val_loss: 0.1997\n",
      "Epoch 79/100\n",
      "17/17 [==============================] - 0s 13ms/step - loss: 0.1180 - val_loss: 0.2156\n",
      "Epoch 80/100\n",
      "17/17 [==============================] - 0s 13ms/step - loss: 0.1294 - val_loss: 0.2126\n",
      "Epoch 81/100\n",
      "17/17 [==============================] - 0s 12ms/step - loss: 0.1216 - val_loss: 0.2265\n",
      "Epoch 82/100\n"
     ]
    },
    {
     "name": "stdout",
     "output_type": "stream",
     "text": [
      "17/17 [==============================] - 0s 12ms/step - loss: 0.1247 - val_loss: 0.2080\n",
      "Epoch 83/100\n",
      "17/17 [==============================] - 0s 11ms/step - loss: 0.1152 - val_loss: 0.2075\n",
      "Epoch 84/100\n",
      "17/17 [==============================] - 0s 11ms/step - loss: 0.1093 - val_loss: 0.2076\n",
      "Epoch 85/100\n",
      "17/17 [==============================] - 0s 11ms/step - loss: 0.1102 - val_loss: 0.2100\n",
      "Epoch 86/100\n",
      "17/17 [==============================] - 0s 12ms/step - loss: 0.1163 - val_loss: 0.2134\n",
      "Epoch 87/100\n",
      "17/17 [==============================] - 0s 12ms/step - loss: 0.1134 - val_loss: 0.1984\n",
      "Epoch 88/100\n",
      "17/17 [==============================] - 0s 12ms/step - loss: 0.1129 - val_loss: 0.2141\n",
      "Epoch 89/100\n",
      "17/17 [==============================] - 0s 12ms/step - loss: 0.1297 - val_loss: 0.2156\n",
      "Epoch 90/100\n",
      "17/17 [==============================] - 0s 12ms/step - loss: 0.1209 - val_loss: 0.2002\n",
      "Epoch 91/100\n",
      "17/17 [==============================] - 0s 11ms/step - loss: 0.1152 - val_loss: 0.2031\n",
      "Epoch 92/100\n",
      "17/17 [==============================] - 0s 12ms/step - loss: 0.1125 - val_loss: 0.2068\n",
      "Epoch 93/100\n",
      "17/17 [==============================] - 0s 11ms/step - loss: 0.1078 - val_loss: 0.2056\n",
      "Epoch 94/100\n",
      "17/17 [==============================] - 0s 12ms/step - loss: 0.1078 - val_loss: 0.2026\n",
      "Epoch 95/100\n",
      "17/17 [==============================] - 0s 12ms/step - loss: 0.1063 - val_loss: 0.1943\n",
      "Epoch 96/100\n",
      "17/17 [==============================] - 0s 11ms/step - loss: 0.1015 - val_loss: 0.1876\n",
      "Epoch 97/100\n",
      "17/17 [==============================] - 0s 11ms/step - loss: 0.1062 - val_loss: 0.1873\n",
      "Epoch 98/100\n",
      "17/17 [==============================] - 0s 11ms/step - loss: 0.1055 - val_loss: 0.2094\n",
      "Epoch 99/100\n",
      "17/17 [==============================] - 0s 11ms/step - loss: 0.1186 - val_loss: 0.2003\n",
      "Epoch 100/100\n",
      "17/17 [==============================] - 0s 11ms/step - loss: 0.1039 - val_loss: 0.1942\n"
     ]
    },
    {
     "data": {
      "text/plain": [
       "<tensorflow.python.keras.callbacks.History at 0x7fc1b5a08f10>"
      ]
     },
     "execution_count": 40,
     "metadata": {},
     "output_type": "execute_result"
    }
   ],
   "source": [
    "# # Step 3: Compile and construct the GNNs\n",
    "model.compile(loss='mae', optimizer=tf.keras.optimizers.Adam(1E-3))\n",
    "model.fit(train_dataset, validation_data=valid_dataset, epochs=100)"
   ]
  },
  {
   "cell_type": "markdown",
   "metadata": {
    "id": "q0nvROBtXjhF"
   },
   "source": [
    "# Testing Graph Neural Networks (GNNs)\n",
    "\n",
    "*   Step 1: Predict using the built model\n",
    "*   Step 2: Plot to see test set\n",
    "\n",
    "\n",
    "\n"
   ]
  },
  {
   "cell_type": "code",
   "execution_count": 41,
   "metadata": {
    "colab": {
     "base_uri": "https://localhost:8080/"
    },
    "id": "pFWKuKd9IbvW",
    "outputId": "42058104-6d4c-4145-d8f5-d22ed6fe3f14"
   },
   "outputs": [],
   "source": [
    "# Step 1: Predict using the built model\n",
    "test_predictions = model.predict(test_dataset)\n",
    "test_db_values = data.set_index('smiles').reindex(test)['oxidation'].values"
   ]
  },
  {
   "cell_type": "code",
   "execution_count": 42,
   "metadata": {
    "colab": {
     "base_uri": "https://localhost:8080/",
     "height": 350
    },
    "id": "J4hXJ09zX2KT",
    "outputId": "9f1c1890-e260-4430-9c57-5eba0fd2d6b8"
   },
   "outputs": [
    {
     "name": "stderr",
     "output_type": "stream",
     "text": [
      "/opt/anaconda3/envs/my-rdkit-env/lib/python3.7/site-packages/seaborn/_decorators.py:43: FutureWarning: Pass the following variables as keyword args: x, y. From version 0.12, the only valid positional argument will be `data`, and passing other arguments without an explicit keyword will result in an error or misinterpretation.\n",
      "  FutureWarning\n"
     ]
    },
    {
     "data": {
      "text/plain": [
       "Text(1,-1.5,'$R^2$ = 0.9 \\nMAE = 0.2 ')"
      ]
     },
     "execution_count": 42,
     "metadata": {},
     "output_type": "execute_result"
    }
   ],
   "source": [
    "# Step 2: Plot to see test set\n",
    "import matplotlib.pyplot as plt\n",
    "import seaborn as sns\n",
    "from sklearn.metrics import r2_score\n",
    "import sklearn.metrics as metrics\n",
    "\n",
    "fig = plt.subplots()\n",
    "\n",
    "ax1 = sns.scatterplot(test_db_values,test_predictions.flatten(),s=30,marker='o',color='b',alpha=0.5)\n",
    "ax1.set_xlabel(r'Calculated Oxidation in eV',fontsize=10)\n",
    "ax1.set_ylabel(r'Predicted Oxidation in eV',fontsize=10)\n",
    "\n",
    "mae = metrics.mean_absolute_error(test_db_values,test_predictions.flatten())\n",
    "r2 = metrics.r2_score(test_db_values,test_predictions.flatten())\n",
    "\n",
    "plt.annotate(f\"$R^2$ = {round(r2,1)} \\nMAE = {round(mae,1)} \", xy=(1.0, -1.5), fontsize=14)"
   ]
  },
  {
   "cell_type": "code",
   "execution_count": null,
   "metadata": {},
   "outputs": [],
   "source": []
  }
 ],
 "metadata": {
  "colab": {
   "collapsed_sections": [],
   "name": "HRC Tutorial.ipynb",
   "provenance": []
  },
  "kernelspec": {
   "display_name": "rd",
   "language": "python",
   "name": "my-rdkit-envv"
  },
  "language_info": {
   "codemirror_mode": {
    "name": "ipython",
    "version": 3
   },
   "file_extension": ".py",
   "mimetype": "text/x-python",
   "name": "python",
   "nbconvert_exporter": "python",
   "pygments_lexer": "ipython3",
   "version": "3.7.9"
  }
 },
 "nbformat": 4,
 "nbformat_minor": 1
}
